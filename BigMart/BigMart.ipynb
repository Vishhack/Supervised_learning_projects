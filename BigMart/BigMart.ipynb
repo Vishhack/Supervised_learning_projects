{
  "nbformat": 4,
  "nbformat_minor": 0,
  "metadata": {
    "colab": {
      "private_outputs": true,
      "provenance": []
    },
    "kernelspec": {
      "name": "python3",
      "display_name": "Python 3"
    },
    "language_info": {
      "name": "python"
    }
  },
  "cells": [
    {
      "cell_type": "markdown",
      "source": [
        "\n",
        "![](https://the-corporate.com/public/profile_images/71583-1620555958.jpg)\n",
        "\n",
        "\n",
        "\n",
        "\n"
      ],
      "metadata": {
        "id": "O-R-4iMlIWWX"
      }
    },
    {
      "cell_type": "markdown",
      "source": [
        "| Column Name                         | Description                                                    |\n",
        "|------------------                   |----------------------------------------------------------------|\n",
        "| `Item_Identifier`                   | Unique product ID                                              |\n",
        "| `Item_Weight`                       | Weight of product                                              |\n",
        "| `Item_Fat_Content`                  | Checks the Concentration of fat in the product                 |\n",
        "| `Item_Visibility`                   | The % of total display area of all similar products in a store |\n",
        "| `Item_Type`                         | Product Category                                               |\n",
        "| `Item_MRP`                          | Maximum Retail Price for a Product                             |\n",
        "| `Outlet_Identifier`                 | Store ID                                                       |\n",
        "| `Outlet_Establishment_Year`         | The year in which store was established                        |\n",
        "| `Outlet_Size`                       | The size of the store (Area Size Category)                     |\n",
        "| `Outlet_Location_Type`              | In Terms of city Tiers (Size)                                  |\n",
        "| `Outlet_Type`                       | Grocery store or a type of    supermarket                      |\n",
        "| `Item_Outlet_Sales`                 | Sales of the product In the Specific outlet                    |\n",
        "\n",
        "\n",
        "-----\n",
        "# Problem Statement:\n",
        "The data scientists at BigMart have collected sales data for 1559 products across 10 stores in different cities for the year 2013. Now each product has certain attributes that sets it apart from other products.\n",
        "\n",
        "### Breakdown of the Problem Statement:\n",
        "* Supervised machine learning problem.\n",
        "* The target value will be `Item_Outlet_Sales`.\n",
        "\n",
        "### Aim of the NoteBook:\n",
        "The objective is to create a model that can predict the sales per product for each store. Using this model, BigMart will try to understand the properties of products and stores which play a key role in increasing sales."
      ],
      "metadata": {
        "id": "zdBpCSiNGjz9"
      }
    },
    {
      "cell_type": "markdown",
      "source": [
        "## **Reference:**\n",
        "\n",
        "<a id='section-0'></a>\n",
        "<h2 style=\"color:darkolivegreen;\">Table of Contents:</h2>\n",
        "<ol>\n",
        "    <li><a href=\"#section-1\" style=\"color:#0000ff;\">Problem Statement</a></li>\n",
        "    <li><a href=\"#section-2\" style=\"color:#0000ff;\">Libraries </a></li>\n",
        "    <li><a href=\"#section-3\" style=\"color:#0000ff;\">File Paths </a></li>\n",
        "    <li><a href=\"#section-4\" style=\"color:#0000ff;\">UNDERSTANDING - DATA  </a></li>\n",
        "    <li><a href=\"#section-5\" style=\"color:#0000ff;\">Data Preprocessing</a></li>\n",
        "    <li><a href=\"#section-7\" style=\"color:#0000ff;\">Exploratory Data Analysis (EDA) </a></li>\n",
        "      <ol>\n",
        "        <li><a href=\"#section-7.0\" style=\"color:#0000ff;\">Univariate Plots </a></li>\n",
        "        <ol>\n",
        "          <li><a href=\"#section-7.0.0\" style=\"color:#0000ff;\">Categorical columns </a></li>\n",
        "          <ol>\n",
        "            <li><a href=\"#section-7.0.0.1\" style=\"color:#0000ff;\">Analysis of Item_Identifier</a></li>\n",
        "            <li><a href=\"#section-7.0.0.2\" style=\"color:#0000ff;\">Analysis of Item Fat Content </a></li>\n",
        "            <li><a href=\"#section-7.0.0.3\" style=\"color:#0000ff;\">Analysis of Item_Type </a></li>\n",
        "            <li><a href=\"#section-7.0.0.4\" style=\"color:#0000ff;\">Analysis of Outlet_Identifier </a></li>\n",
        "            <li><a href=\"#section-7.0.0.5\" style=\"color:#0000ff;\">Analysis of Outlet_Size </a></li>\n",
        "            <li><a href=\"#section-7.0.0.6\" style=\"color:#0000ff;\">Analysis of Outlet_Location_Type </a></li>\n",
        "            <li><a href=\"#section-7.0.0.7\" style=\"color:#0000ff;\">Analysis of Outlet_Type </a></li>\n",
        "          </ol>\n",
        "        </ol>\n",
        "        <ol>\n",
        "          <li><a href=\"#section-7.0.1\" style=\"color:#0000ff;\">Numerical columns </a></li>\n",
        "            <ol>\n",
        "              <li><a href=\"#section-7.0.1.1\" style=\"color:#0000ff;\">Analysis of Item Weights </a></li>\n",
        "              <li><a href=\"#section-7.0.1.2\" style=\"color:#0000ff;\">Analysis of Item Visibility </a></li>\n",
        "              <li><a href=\"#section-7.0.1.3\" style=\"color:#0000ff;\">Analysis of Item_MRP </a></li>\n",
        "              <li><a href=\"#section-7.0.1.4\" style=\"color:#0000ff;\">Analysis of Outlet_Age </a></li>\n",
        "              <li><a href=\"#section-7.0.1.5\" style=\"color:#0000ff;\">Analysis of Item_Outlet_Sales </a></li>\n",
        "              <li><a href=\"#section-7.0.1.6\" style=\"color:#0000ff;\">Analysis of Outlet Sales </a></li>\n",
        "              <li><a href=\"#section-7.0.1.7\" style=\"color:#0000ff;\">Analysis of Item Weight and Item Outlet Sales </a></li>\n",
        "            </ol>\n",
        "        </ol>\n",
        "        <li><a href=\"#section-7.1\" style=\"color:#0000ff;\">Bivariate Analysis </a></li>\n",
        "        <ol>\n",
        "          <li><a href=\"#section-7.1.0\" style=\"color:#0000ff;\">Analysis of Sales per item type </a></li>\n",
        "          <li><a href=\"#section-7.1.1\" style=\"color:#0000ff;\">Analysis of Sales per outlet </a></li>\n",
        "          <li><a href=\"#section-7.1.2\" style=\"color:#0000ff;\">Analysis of Sales per outlet type </a></li>\n",
        "          <li><a href=\"#section-7.1.3\" style=\"color:#0000ff;\">Analysis of Sales per outlet size </a></li>\n",
        "          <li><a href=\"#section-7.1.4\" style=\"color:#0000ff;\">Analysis of Sales per location type </a></li>\n",
        "          <li><a href=\"#section-7.1.5\" style=\"color:#0000ff;\">\n",
        "          Realizations </a></li>\n",
        "        </ol>\n",
        "        <li><a href=\"#section-7.2\" style=\"color:#0000ff;\">Some other Bivariate Analysis </a></li>\n",
        "        <ol>\n",
        "            <li><a href=\"#section-7.2.1\" style=\"color:#0000ff;\">Analysis of Item Visibility and Outlet Size </a></li>\n",
        "            <li><a href=\"#section-7.2.2\" style=\"color:#0000ff;\">Analysis of Item Visibility and Outlet Type </a></li>\n",
        "            <li><a href=\"#section-7.2.3\" style=\"color:#0000ff;\">Analysis of Outlet Establishment Year and Outlet Type </a></li>\n",
        "            <li><a href=\"#section-7.2.4\" style=\"color:#0000ff;\">Analysis of Item Fat Content and Item Outlet Sales </a></li>\n",
        "            <li><a href=\"#section-7.2.5\" style=\"color:#0000ff;\">Analysis of Outlet Establishment Year and Outlet Location Type </a></li>\n",
        "            <li><a href=\"#section-7.2.6\" style=\"color:#0000ff;\">Analysis of Outlet Establishment Year and Item Outlet Sales </a></li>\n",
        "            <li><a href=\"#section-7.2.7\" style=\"color:#0000ff;\">Analysis of Outlet Size and Outlet Type </a></li>\n",
        "            <li><a href=\"#section-7.2.8\" style=\"color:#0000ff;\">Analysis of Outlet Size and Outlet Location Type </a></li>\n",
        "            <li><a href=\"#section-7.2.9\" style=\"color:#0000ff;\">Analysis of Outlet Location Type and Outlet Type </a></li>\n",
        "        </ol>\n",
        "      </ol>\n",
        "    <li><a href=\"#section-8\" style=\"color:#0000ff;\">Feature Engineering </a></li>\n",
        "    <li><a href=\"#section-9\" style=\"color:#0000ff;\">Splitting Dataset into `X` and `Y` variables </a></li>\n",
        "    <li><a href=\"#section-10\" style=\"color:#0000ff;\">Selecting model </a></li>\n",
        "      <ol>\n",
        "        <li><a href=\"#section-10.0\" style=\"color:#0000ff;\">Linear Regression </a></li>\n",
        "        <li><a href=\"#section-10.1\" style=\"color:#0000ff;\">Lasso Regressor </a></li>\n",
        "        <li><a href=\"#section-10.2\" style=\"color:#0000ff;\">Ridge Regression </a></li>\n",
        "        <li><a href=\"#section-10.3\" style=\"color:#0000ff;\">Random Forest Regressor </a></li>\n",
        "        <li><a href=\"#section-10.4\" style=\"color:#0000ff;\">XGB </a></li>\n",
        "      </ol>\n",
        "    <li><a href=\"#section-11\" style=\"color:#0000ff;\">Conclusion </a></li>\n",
        "    <li><a href=\"#section-12\" style=\"color:#0000ff;\">Realizations </a></li>\n",
        "</ol>"
      ],
      "metadata": {
        "id": "sn7qL0IEIDBI"
      }
    },
    {
      "cell_type": "markdown",
      "source": [
        " Libraries 📕📗📘\n",
        " <a id='section-2'></a>"
      ],
      "metadata": {
        "id": "0z1cm1rfKCy2"
      }
    },
    {
      "cell_type": "code",
      "execution_count": null,
      "metadata": {
        "id": "fiRFnZiLz0Td"
      },
      "outputs": [],
      "source": [
        "import numpy as np # linear algebra\n",
        "import pandas as pd # data processing\n",
        "\n",
        "#ploting libraries\n",
        "import matplotlib.pyplot as plt\n",
        "import seaborn as sns\n",
        "\n",
        "#feature engineering\n",
        "from sklearn.preprocessing import OneHotEncoder\n",
        "from sklearn.preprocessing import LabelEncoder\n",
        "\n",
        "#train test split\n",
        "from sklearn.model_selection import train_test_split\n",
        "\n",
        "#metrics\n",
        "from sklearn.metrics import mean_absolute_error as MAE\n",
        "from sklearn.metrics import mean_squared_error as MSE\n",
        "from sklearn.metrics import r2_score as R2\n",
        "from sklearn.model_selection  import cross_val_score as CVS\n",
        "from sklearn.model_selection import learning_curve\n",
        "\n",
        "\n",
        "#ML models\n",
        "from sklearn.linear_model import LinearRegression\n",
        "from sklearn.linear_model import Lasso\n",
        "from sklearn.linear_model import Ridge\n",
        "from sklearn.ensemble import RandomForestRegressor\n",
        "from xgboost import XGBRegressor"
      ]
    },
    {
      "cell_type": "markdown",
      "source": [
        " File Paths 📂\n",
        " <a id='section-3'></a>"
      ],
      "metadata": {
        "id": "TkiUCKyrKm6P"
      }
    },
    {
      "cell_type": "code",
      "source": [
        "tr_data = pd.read_csv(\"/content/Train.csv\")\n",
        "te_data = pd.read_csv(\"/content/Test.csv\")"
      ],
      "metadata": {
        "id": "pPT3-JIE0D6W"
      },
      "execution_count": null,
      "outputs": []
    },
    {
      "cell_type": "code",
      "source": [
        "# read in csv file as a DataFrame\n",
        "tr_data.describe()"
      ],
      "metadata": {
        "id": "n2Annfdm1vNk"
      },
      "execution_count": null,
      "outputs": []
    },
    {
      "cell_type": "code",
      "source": [
        "# read in csv file as a DataFrame\n",
        "te_data.describe()"
      ],
      "metadata": {
        "id": "31jBeOXZ_b-N"
      },
      "execution_count": null,
      "outputs": []
    },
    {
      "cell_type": "code",
      "source": [
        "# explore the first 5 rows\n",
        "tr_data.head()"
      ],
      "metadata": {
        "id": "9C_yty0Y1xYS"
      },
      "execution_count": null,
      "outputs": []
    },
    {
      "cell_type": "code",
      "source": [
        "# explore the first 5 rows\n",
        "te_data.head()"
      ],
      "metadata": {
        "id": "a_3sb3vU_fUv"
      },
      "execution_count": null,
      "outputs": []
    },
    {
      "cell_type": "markdown",
      "source": [
        "# UNDERSTANDING - DATA 🤔\n",
        "<a id='section-4'></a>\n",
        "\n",
        "\n",
        "Hypothesis:\n",
        "\n",
        "- **Item Type and Sales:** Products in certain categories might have higher sales. For example, high-demand categories like \"Fruits and Vegetables\" or \"Snack Foods\" might lead to higher sales.\n",
        "\n",
        "- **Item Visibility and Sales:** Products with higher visibility on the store shelves could potentially lead to higher sales, as they are more likely to be noticed by customers.\n",
        "\n",
        "-  **Item MRP and Sales:** Products with higher maximum retail prices (MRP) might have lower sales, as customers could be price-sensitive.\n",
        "\n",
        "- **Outlet Type and Sales:** Different types of outlets (grocery stores vs. supermarkets) could have different sales patterns. Supermarkets might have higher sales due to a wider variety of products.\n",
        "\n",
        "- **Outlet Location and Sales:** Outlets in certain location types (city tiers) might experience higher sales due to differences in customer demographics.\n",
        "\n",
        "- **Outlet Size and Sales:** Larger outlets might have higher sales due to more product variety and higher footfall.\n",
        "\n",
        "- **Item Fat Content and Sales:** Products with different fat content levels could have different sales. Customers might prefer products with lower fat content.\n",
        "\n",
        "- **Outlet Establishment Year and Sales:** Older outlets might have built a loyal customer base over time, resulting in higher sales.\n",
        "\n",
        "- **Item Weight and Sales:** Products with different weights might have varying sales, as heavier items could be more expensive or in bulk.\n",
        "\n",
        "- **Interaction Effects:** You can also consider interaction effects between variables. For example, the impact of item type on sales might vary based on the outlet location.\n",
        "\n",
        "LET'S SEE EVERY POINT IN \"EDA\" PROCESS"
      ],
      "metadata": {
        "id": "VEi-GP1XI3KZ"
      }
    },
    {
      "cell_type": "code",
      "source": [
        "# Checking both datasets size\n",
        "\n",
        "print(f\"Trianig dataset size: {tr_data.shape} \\n \\nTesing dataset size: {te_data.shape}\")"
      ],
      "metadata": {
        "id": "ipKQc4JABkF0"
      },
      "execution_count": null,
      "outputs": []
    },
    {
      "cell_type": "markdown",
      "source": [
        "# PREPROCESSING\n",
        "\n",
        "<a id='section-5'></a>"
      ],
      "metadata": {
        "id": "2hQ2ZFmOJKah"
      }
    },
    {
      "cell_type": "markdown",
      "source": [
        "**Obeservation:** Both training and testing are not having same size"
      ],
      "metadata": {
        "id": "_KJuhILvB0HS"
      }
    },
    {
      "cell_type": "markdown",
      "source": [
        "## Missing values 🚫\n",
        "\n",
        "There are many ways data can end up with missing values. For example:\n",
        "1. The product wasn't weighed.\n",
        "2. The data provider didn't include the outlet size of some products.\n",
        "3. The product names or ids names weren't entered\n",
        "\n",
        "Most machine learning libraries (including scikit-learn) give an error if you try to build a model using data with missing values. As you can see we have some missing data, let's have a look how many we have for each column:\n",
        "\n",
        "* by numbers\n",
        "* by %\n",
        "\n",
        "This analysis will also compare to the test and train datasets for evaluation.\n",
        "\n",
        "\n"
      ],
      "metadata": {
        "id": "iWGn7GbpMeYJ"
      }
    },
    {
      "cell_type": "code",
      "source": [
        "# checking null values existence\n",
        "\n",
        "print(f\"Trianig dataset null vlaues: \\n \\n{tr_data.isnull().sum().sort_values(ascending=False)} \\n \\n{(tr_data.isnull().sum()/tr_data.shape[0]*100).sort_values(ascending=False)} \\n ------------------ \\n \\nTesing dataset size: \\n \\n{te_data.isnull().sum().sort_values(ascending=False)} \\n \\n{(te_data.isnull().sum()/te_data.shape[0]*100).sort_values(ascending=False)} \")\n"
      ],
      "metadata": {
        "id": "zl5ryRI52CKa"
      },
      "execution_count": null,
      "outputs": []
    },
    {
      "cell_type": "markdown",
      "source": [
        "**Observation:**\n",
        "\n",
        "We can see the % of each missing Values per columns is almost identical!\n",
        "\n",
        "| column           | size |\n",
        "|------------------|------|\n",
        "| `Outlet_Size`    | 28%  |\n",
        "| `Item_Weight`    | 17%  |\n",
        "\n"
      ],
      "metadata": {
        "id": "x_tmyMntP6yq"
      }
    },
    {
      "cell_type": "markdown",
      "source": [
        "\n",
        "Let's check the value counts for `Outlet_Size` and `Item_Weight`:"
      ],
      "metadata": {
        "id": "_MM-R6btSxP8"
      }
    },
    {
      "cell_type": "code",
      "source": [
        "print(\"Outlet_Size:\\n\", tr_data.Outlet_Size.value_counts(), \"\\n\\n\")\n",
        "print(\"Item_Weight:\\n\", te_data.Item_Weight.value_counts(), \"\\n\\n\")"
      ],
      "metadata": {
        "id": "UfUFKyn-2Tzp"
      },
      "execution_count": null,
      "outputs": []
    },
    {
      "cell_type": "markdown",
      "source": [
        "**Observation:**\n",
        "\n",
        "`Outlet_Size` is a categorical column,So we have a few options for how to treat those missing values:\n",
        "- Mode Imputation\n",
        "- Create a New Category\n",
        "- Predictive Modeling: We can use a predictive model (e.g., decision tree, random forest, etc.) to predict the missing values based on the values of other features. But his good to use because the predictive model learns patterns and relationships from the training data and then uses that knowledge to predict missing values in the test (or validation) set. So that, it may leads to Overfitting or bia due to other features.\n",
        "\n",
        "The only Mode imputation is good way to impute missing values with `Medium` the **mode value**\n",
        "\n"
      ],
      "metadata": {
        "id": "jpKlCSrqTCty"
      }
    },
    {
      "cell_type": "code",
      "source": [
        "print(\"test mode, train mode\\n\",[te_data['Outlet_Size'].mode().values[0], tr_data['Outlet_Size'].mode().values[0]])"
      ],
      "metadata": {
        "id": "_B1_dhV92c_G"
      },
      "execution_count": null,
      "outputs": []
    },
    {
      "cell_type": "code",
      "source": [
        "tr_data['Outlet_Size'] = tr_data['Outlet_Size'].fillna(tr_data['Outlet_Size'].dropna().mode().values[0])\n",
        "te_data['Outlet_Size'] = te_data['Outlet_Size'].fillna(te_data['Outlet_Size'].dropna().mode().values[0])\n",
        "\n",
        "#checking if we filled missing values\n",
        "tr_data['Outlet_Size'].isnull().sum(),te_data['Outlet_Size'].isnull().sum()"
      ],
      "metadata": {
        "id": "iq1w8lZmZVfa"
      },
      "execution_count": null,
      "outputs": []
    },
    {
      "cell_type": "markdown",
      "source": [
        "`Item_Weight` is a categorical column,So we have a few options for how to treat those missing values:\n",
        "\n",
        "- Mean or Median Imputation\n",
        "- Predictive Modeling\n",
        "- Linear Interpolation:\n",
        "- Using Business Knowledge\n",
        "- Data Transformation\n",
        "- K-Nearest Neighbors (KNN) Imputation\n",
        "\n",
        "The choice of imputation method depends on the nature of Our data, the amount of missing data, and the goals of Our analysis.\n",
        "\n",
        "*The mean or median imputaiton technique is good choice for our model 👍👍👍👍👍👍*\n",
        "\n",
        "----\n",
        "**Note:** The MEAN is highly sensitive to outliers and The MEDIAN is less sensitive to outliers compared to MEAN.\n",
        "\n",
        "----\n",
        "\n",
        "let's check if outliers are exist or not\n",
        "\n",
        "i will use the boxplot in seaborn for outliers:\n",
        "\n",
        "  <tr><td>\n",
        "    <img src=\"https://miro.medium.com/max/1050/1*2c21SkzJMf3frPXPAR_gZA.png\"\n",
        "         width=\"400\" height=\"300\">\n",
        "      <tr><td align=\"LEFT\">\n"
      ],
      "metadata": {
        "id": "ijBCeXg68lvC"
      }
    },
    {
      "cell_type": "code",
      "source": [
        "# I personally prefer a vertical view and a blue color\n",
        "sns.boxplot(data=tr_data['Item_Weight'],orient=\"v\", color = 'b')\n",
        "plt.title(\"Item_Weight Boxplot\")"
      ],
      "metadata": {
        "id": "rCYCp9nj8t3D"
      },
      "execution_count": null,
      "outputs": []
    },
    {
      "cell_type": "markdown",
      "source": [
        "**Obervation:**\n",
        "\n",
        "There are no outliers so we will fill the missing data with the mean value for maximum efficiency:"
      ],
      "metadata": {
        "id": "dNMICphp_hWH"
      }
    },
    {
      "cell_type": "code",
      "source": [
        "#training data\n",
        "tr_data['Item_Weight'] = tr_data['Item_Weight'].fillna(\n",
        "tr_data['Item_Weight'].dropna().mean())\n",
        "\n",
        "#testing data\n",
        "te_data['Item_Weight'] = te_data['Item_Weight'].fillna(\n",
        "te_data['Item_Weight'].dropna().mean())\n",
        "\n",
        "#checking if we filled missing values\n",
        "tr_data['Item_Weight'].isnull().sum(),te_data['Item_Weight'].isnull().sum()"
      ],
      "metadata": {
        "id": "6tXbQX2N_pKq"
      },
      "execution_count": null,
      "outputs": []
    },
    {
      "cell_type": "markdown",
      "source": [
        "Now we can see using the `.info()` method we can see we have filled succesfully all mising the missing data for both sets:"
      ],
      "metadata": {
        "id": "ACmTtszOAN9S"
      }
    },
    {
      "cell_type": "code",
      "source": [
        "print(\"train:\\n\")\n",
        "print(tr_data.info())\n",
        "print(\"\\n\\ntest:\\n\")\n",
        "print(te_data.info())"
      ],
      "metadata": {
        "id": "No1DougdAQKv"
      },
      "execution_count": null,
      "outputs": []
    },
    {
      "cell_type": "markdown",
      "source": [
        "# EDA\n",
        "\n",
        "<a id='section-7'></a>"
      ],
      "metadata": {
        "id": "3GjhW512AnMC"
      }
    },
    {
      "cell_type": "markdown",
      "source": [
        "\n",
        "\n",
        "![](https://media1.giphy.com/media/v1.Y2lkPTc5MGI3NjExM2Z2dndjcnN4ZjR5d2Qza2puZmtpd2VrMGpyYTVjM3J3YXcyNzFhciZlcD12MV9pbnRlcm5hbF9naWZfYnlfaWQmY3Q9Zw/26BRAakoYfya7g3u0/giphy.gif)\n",
        "\n",
        "Firstly we need to split our data to categorical and numerical data,\n",
        "\n",
        "using the `.select_dtypes('dtype').columns.to_list()` combination.\n",
        "\n",
        "💡hits\n",
        "- select_dtypes('number'):  It selects all columns that have numeric (integer or floating-point) data types.\n",
        "- select_dtypes('object'), it selects all columns that have object (string) data types"
      ],
      "metadata": {
        "id": "narlX1coAtaC"
      }
    },
    {
      "cell_type": "code",
      "source": [
        "# first lets see all the unique values\n",
        "\n",
        "#list of all the numeric columns\n",
        "num = tr_data.select_dtypes('number').columns.to_list()\n",
        "#list of all the categoric columns\n",
        "cat = tr_data.select_dtypes('object').columns.to_list()\n",
        "\n",
        "#numeric data\n",
        "BM_num =  tr_data[num]\n",
        "#categoric data\n",
        "BM_cat = tr_data[cat]\n",
        "\n",
        "#print(num)\n",
        "#print(cat)\n",
        "\n",
        "[tr_data[category].value_counts() for category in cat[1:]]"
      ],
      "metadata": {
        "id": "EnNmeJKRApOd"
      },
      "execution_count": null,
      "outputs": []
    },
    {
      "cell_type": "markdown",
      "source": [
        "**Observation:**\n",
        "\n",
        "We can See we have Repeating values with different names in the `Item_Fat_Content` column,\n",
        "we will correct them using the using the `.replace()` method"
      ],
      "metadata": {
        "id": "2gAT_4fnCpVd"
      }
    },
    {
      "cell_type": "code",
      "source": [
        "#training data\n",
        "tr_data['Item_Fat_Content'].replace(['LF', 'low fat', 'reg'],\n",
        "                                  ['Low Fat','Low Fat','Regular'],inplace = True)\n",
        "#testing data\n",
        "te_data['Item_Fat_Content'].replace(['LF', 'low fat', 'reg'],\n",
        "                                  ['Low Fat','Low Fat','Regular'],inplace = True)\n",
        "\n",
        "#check result\n",
        "tr_data.Item_Fat_Content.value_counts()"
      ],
      "metadata": {
        "id": "yPzjLlFaCspB"
      },
      "execution_count": null,
      "outputs": []
    },
    {
      "cell_type": "markdown",
      "source": [
        "`Outlet_Establishment_Year` is quite useless as it is, making a new column with the age the new name will be `Outlet_Age`\n",
        "\n",
        "`Outlet_Age` is easy to understand ----😁"
      ],
      "metadata": {
        "id": "C9eaQzHAHGvS"
      }
    },
    {
      "cell_type": "code",
      "source": [
        "#creating our new column for both datasets\n",
        "tr_data['Outlet_Age'], te_data['Outlet_Age']= tr_data['Outlet_Establishment_Year'].apply(lambda year: 2020 - year), te_data['Outlet_Establishment_Year'].apply(lambda year: 2020 - year)\n",
        "\n",
        "##uncomment to check result\n",
        "#tr_df['Outlet_Age'].head\n",
        "#te_df['Outlet_Age'].head"
      ],
      "metadata": {
        "id": "7qpb7h1oHfBS"
      },
      "execution_count": null,
      "outputs": []
    },
    {
      "cell_type": "code",
      "source": [
        "tr_data.info()"
      ],
      "metadata": {
        "id": "TLymtkM-UoWe"
      },
      "execution_count": null,
      "outputs": []
    },
    {
      "cell_type": "markdown",
      "source": [
        "## Data Visualization 📊\n",
        "\n",
        "![](https://media3.giphy.com/media/ElpmLA4xAjLfLkqXht/giphy.webp?cid=ecf05e472i1rdi2y3u0ib1bupu50nsie4rci40beavqqj3y2&ep=v1_gifs_search&rid=giphy.webp&ct=g)\n"
      ],
      "metadata": {
        "id": "3fvEGY95EkTO"
      }
    },
    {
      "cell_type": "markdown",
      "source": [
        "### Univariate Plots\n",
        "<a id='section-7.0'></a>\n",
        "\n"
      ],
      "metadata": {
        "id": "SgSQvH7sMTRX"
      }
    },
    {
      "cell_type": "markdown",
      "source": [
        "```\n",
        "list of all the categorical columns\n",
        "obj = tr_data.select_dtypes('object').columns.to_list()\n",
        "```\n",
        "\n",
        "<h2>categorical columns:\n",
        "<a id='section-7.0.0'></a>\n",
        "\n",
        "- Item_Identifier\n",
        "- Item_Fat_Content\n",
        "- Item_Type\n",
        "- Outlet_Identifier\n",
        "- Outlet_Size\n",
        "- Outlet_Location_Type\n",
        "- Outlet_Type"
      ],
      "metadata": {
        "id": "r32V12qj8JW9"
      }
    },
    {
      "cell_type": "markdown",
      "source": [
        "**Analysis of Item_Identifier**\n",
        "<a id='section-7.0.0.1'></a>\n",
        "---"
      ],
      "metadata": {
        "id": "edNTioSrNH1n"
      }
    },
    {
      "cell_type": "code",
      "source": [
        "# Analysis of Item_Identifier\n",
        "\n",
        "plt.figure(figsize=(6,4))\n",
        "sns.countplot(x='Item_Fat_Content' , data=tr_data ,palette='mako')\n",
        "plt.xlabel('Item_Fat_Content', fontsize=14)\n",
        "plt.show()"
      ],
      "metadata": {
        "id": "pk9O3tKcNQxb"
      },
      "execution_count": null,
      "outputs": []
    },
    {
      "cell_type": "markdown",
      "source": [
        "<h5><a href=\"#section-0\" style=\"color:#451FA4;\">Back To Content Table</a></h5>\n"
      ],
      "metadata": {
        "id": "YkVj6MhpvSny"
      }
    },
    {
      "cell_type": "markdown",
      "source": [
        "**Analysis of Item_Fat_Content**\n",
        "<a id='section-7.0.0.2'></a>\n",
        "---\n"
      ],
      "metadata": {
        "id": "zmPimIypM_GF"
      }
    },
    {
      "cell_type": "code",
      "source": [
        "# Analysis of Item_Fat_Content\n",
        "\n",
        "plt.figure(figsize = (6,6))\n",
        "total = float(len(tr_data))\n",
        "ax = sns.countplot(x = 'Item_Fat_Content',data=tr_data)\n",
        "plt.title('Count Plot of Item Fat Content', fontsize=20)\n",
        "plt.xlabel('Item Fat Content')\n",
        "for p in ax.patches:\n",
        "    percentage = '{:.1f}%'.format(100 * p.get_height()/total)\n",
        "    x = p.get_x() + p.get_width() / 2.\n",
        "    y = p.get_height()\n",
        "    ax.annotate(percentage, (x, y),ha='center',va='bottom')\n",
        "plt.show()"
      ],
      "metadata": {
        "id": "-mkoW4neM_v_"
      },
      "execution_count": null,
      "outputs": []
    },
    {
      "cell_type": "markdown",
      "source": [
        "<h5><a href=\"#section-0\" style=\"color:#451FA4;\">Back To Content Table</a></h5>\n"
      ],
      "metadata": {
        "id": "ihDvpUf_vdzu"
      }
    },
    {
      "cell_type": "markdown",
      "source": [
        "**Analysis of Item_Type**\n",
        "<a id='section-7.0.0.3'></a>\n",
        "\n",
        "\n",
        "\n",
        "\n",
        "----\n",
        "\n"
      ],
      "metadata": {
        "id": "pEV6DY-3PaRa"
      }
    },
    {
      "cell_type": "code",
      "source": [
        "# Analysis of Item_Type\n",
        "\n",
        "plt.figure(figsize=(27,10))\n",
        "sns.countplot(x='Item_Type' , data=tr_data ,palette='summer')\n",
        "plt.xlabel('Item_Type', fontsize=14)\n",
        "plt.show()"
      ],
      "metadata": {
        "id": "aunAZS5YQ2_S"
      },
      "execution_count": null,
      "outputs": []
    },
    {
      "cell_type": "markdown",
      "source": [
        "<h5><a href=\"#section-0\" style=\"color:#451FA4;\">Back To Content Table</a></h5>\n"
      ],
      "metadata": {
        "id": "lEBvmPH-vfHe"
      }
    },
    {
      "cell_type": "markdown",
      "source": [
        "**Analysis of Outlet_Identifier**\n",
        "<a id='section-7.0.0.4'></a>\n",
        "\n",
        "----"
      ],
      "metadata": {
        "id": "oWEjUgdeQWvt"
      }
    },
    {
      "cell_type": "code",
      "source": [
        "# Analysis of Outlet_Identifier\n",
        "\n",
        "plt.figure(figsize=(15,4))\n",
        "sns.countplot(x='Outlet_Identifier' , data=tr_data ,palette='winter')\n",
        "plt.xlabel('Outlet_Identifier', fontsize=14)\n",
        "plt.show()"
      ],
      "metadata": {
        "id": "vjwfVOaSRCCR"
      },
      "execution_count": null,
      "outputs": []
    },
    {
      "cell_type": "markdown",
      "source": [
        "<h5><a href=\"#section-0\" style=\"color:#451FA4;\">Back To Content Table</a></h5>\n"
      ],
      "metadata": {
        "id": "ILdUtn6rvgV4"
      }
    },
    {
      "cell_type": "markdown",
      "source": [
        "**Analysis of Outlet_Size**\n",
        "<a id='section-7.0.0.5'></a>\n",
        "\n",
        "---"
      ],
      "metadata": {
        "id": "1iSj-ZosQdmo"
      }
    },
    {
      "cell_type": "code",
      "source": [
        "# Analysis of Outlet_Size\n",
        "\n",
        "plt.figure(figsize=(10,4))\n",
        "sns.countplot(x='Outlet_Size' , data=tr_data ,palette='autumn')\n",
        "plt.xlabel('Outlet_Size', fontsize=14)\n",
        "plt.show()"
      ],
      "metadata": {
        "id": "a5LCYCWXRD22"
      },
      "execution_count": null,
      "outputs": []
    },
    {
      "cell_type": "markdown",
      "source": [
        "<h5><a href=\"#section-0\" style=\"color:#451FA4;\">Back To Content Table</a></h5>\n"
      ],
      "metadata": {
        "id": "DP0OLYqWvhSx"
      }
    },
    {
      "cell_type": "markdown",
      "source": [
        "**Analysis of Outlet_Location_Type**\n",
        "<a id='section-7.0.0.6'></a>\n",
        "\n",
        "---"
      ],
      "metadata": {
        "id": "l0ZlVYSJQl6v"
      }
    },
    {
      "cell_type": "code",
      "source": [
        "# Analysis of Outlet_Location_Type\n",
        "\n",
        "plt.figure(figsize=(10,4))\n",
        "sns.countplot(x='Outlet_Location_Type' , data=tr_data ,palette='twilight_shifted')\n",
        "plt.xlabel('Outlet_Location_Type', fontsize=14)\n",
        "plt.show()"
      ],
      "metadata": {
        "id": "B1X1785yRFsB"
      },
      "execution_count": null,
      "outputs": []
    },
    {
      "cell_type": "markdown",
      "source": [
        "<h5><a href=\"#section-0\" style=\"color:#451FA4;\">Back To Content Table</a></h5>\n"
      ],
      "metadata": {
        "id": "BCtFHUdbviT2"
      }
    },
    {
      "cell_type": "markdown",
      "source": [
        "**Analysis of Outlet_Type**\n",
        "<a id='section-7.0.0.7'></a>\n",
        "\n",
        "---"
      ],
      "metadata": {
        "id": "Ud7wd6YkQv0b"
      }
    },
    {
      "cell_type": "code",
      "source": [
        "# Analysis of Outlet_Type\n",
        "\n",
        "plt.figure(figsize=(10,4))\n",
        "sns.countplot(x='Outlet_Type' , data=tr_data ,palette='rocket')\n",
        "plt.xlabel('Outlet_Type', fontsize=14)\n",
        "plt.show()"
      ],
      "metadata": {
        "id": "TyXgNNBFRHV1"
      },
      "execution_count": null,
      "outputs": []
    },
    {
      "cell_type": "markdown",
      "source": [
        "<h5><a href=\"#section-0\" style=\"color:#451FA4;\">Back To Content Table</a></h5>\n"
      ],
      "metadata": {
        "id": "Hf_lRwl3vjdW"
      }
    },
    {
      "cell_type": "markdown",
      "source": [
        "<h1>Categoric columns realizations</h1>\n",
        "\n",
        "* `Item_Fat_Content` - Most items sold are low fat.\n",
        "* `Item_Type` - Item types that are distictly popular are `fruits and vegetables` and `snack foods`.\n",
        "* `Outlet_Identifier` - Sold items are ditributed evenly among outlets excluding `OUT010` and `OUT019` that are significanly lower.\n",
        "* `Outlet_Size` - Bigmart outlets are mostly medium sized in our data.\n",
        "* `Outlet_Location_Type` - The most common type is `Tier3`.\n",
        "* `Outlet_Type` - By a wide margin the mode outlet type is `Supermarket Type1`."
      ],
      "metadata": {
        "id": "9jJ3p5fPNgCZ"
      }
    },
    {
      "cell_type": "markdown",
      "source": [
        "```\n",
        "list of all the numeric columns\n",
        "num = tr_data.select_dtypes('number').columns.to_list()\n",
        "```\n",
        "<h2> numerical columns:\n",
        "<a id='section-7.0.1'></a>\n",
        "\n",
        "- Item_Weight\n",
        "- Item_Visibility\n",
        "- Item_MRP\n",
        "- Outlet_Establishment_Year\n",
        "- Outlet_Age\n",
        "- Item_Outlet_Sales\n"
      ],
      "metadata": {
        "id": "jByiyIXGR4Og"
      }
    },
    {
      "cell_type": "markdown",
      "source": [
        "**Analysis of Item Weights**\n",
        "\n",
        "<a id='section-7.0.1.1'></a>\n",
        "\n",
        "---\n",
        "\n"
      ],
      "metadata": {
        "id": "kuy_f2E7F4Qh"
      }
    },
    {
      "cell_type": "code",
      "source": [
        "# Item_Weight Distribution\n",
        "\n",
        "plt.figure(figsize = (8,6))\n",
        "sns.distplot(tr_data['Item_Weight'])\n",
        "plt.title('Item Weight Distribution')\n",
        "plt.show()"
      ],
      "metadata": {
        "id": "H8UMVgKxC8Ai"
      },
      "execution_count": null,
      "outputs": []
    },
    {
      "cell_type": "markdown",
      "source": [
        "<h5><a href=\"#section-0\" style=\"color:#451FA4;\">Back To Content Table</a></h5>\n"
      ],
      "metadata": {
        "id": "ShSU7EVLvlbl"
      }
    },
    {
      "cell_type": "markdown",
      "source": [
        "**Analysis of Item Visibility**\n",
        "<a id='section-7.0.1.2'></a>\n",
        "\n",
        "---\n",
        "\n"
      ],
      "metadata": {
        "id": "3XhMehL6GVzb"
      }
    },
    {
      "cell_type": "code",
      "source": [
        "# Item_Visibility Distribution\n",
        "\n",
        "plt.figure(figsize = (8,6))\n",
        "sns.distplot(tr_data['Item_Visibility'])\n",
        "plt.title('Item Visibility Distribution')\n",
        "plt.show()"
      ],
      "metadata": {
        "id": "81lUw8wWGZMg"
      },
      "execution_count": null,
      "outputs": []
    },
    {
      "cell_type": "markdown",
      "source": [
        "<h5><a href=\"#section-0\" style=\"color:#451FA4;\">Back To Content Table</a></h5>\n",
        "\n",
        "\n"
      ],
      "metadata": {
        "id": "sFceFIPEH6dR"
      }
    },
    {
      "cell_type": "markdown",
      "source": [
        "**Analysis of Item_MRP**\n",
        "<a id='section-7.0.1.3'></a>\n",
        "\n",
        "---"
      ],
      "metadata": {
        "id": "Y9DP7v_bTkik"
      }
    },
    {
      "cell_type": "code",
      "source": [
        "# Analysis of Item_MRP\n",
        "\n",
        "plt.figure(figsize = (8,6))\n",
        "sns.distplot(tr_data['Item_MRP'])\n",
        "plt.title('Item MRP Distribution')\n",
        "plt.show()"
      ],
      "metadata": {
        "id": "kRB14gzCTrAO"
      },
      "execution_count": null,
      "outputs": []
    },
    {
      "cell_type": "markdown",
      "source": [
        "<h5><a href=\"#section-0\" style=\"color:#451FA4;\">Back To Content Table</a></h5>\n"
      ],
      "metadata": {
        "id": "sEP4l4WUvm5c"
      }
    },
    {
      "cell_type": "markdown",
      "source": [
        "<h3>NOTE:\n",
        "\n",
        "**Analysis of Outlet_Establishment_Year is same as Analysis Outlet_Age**\n",
        "<h3>So,\n",
        "\n",
        "lets consider only `Outlet_Age`\n",
        "\n"
      ],
      "metadata": {
        "id": "WWWEUw-uTu0y"
      }
    },
    {
      "cell_type": "markdown",
      "source": [
        "\n",
        "**Analysis of Outlet_Age**\n",
        "<a id='section-7.0.1.4'></a>\n",
        "\n",
        "---"
      ],
      "metadata": {
        "id": "ny-N9jEMV7wJ"
      }
    },
    {
      "cell_type": "code",
      "source": [
        "# Analysis of Outlet_Establishment_Year\n",
        "\n",
        "plt.figure(figsize = (8,6))\n",
        "sns.distplot(tr_data['Outlet_Age'])\n",
        "plt.title('Outlet AGE Distribution')\n",
        "plt.show()"
      ],
      "metadata": {
        "id": "jwc74s37T2gJ"
      },
      "execution_count": null,
      "outputs": []
    },
    {
      "cell_type": "markdown",
      "source": [
        "<h5><a href=\"#section-0\" style=\"color:#451FA4;\">Back To Content Table</a></h5>\n"
      ],
      "metadata": {
        "id": "8KgoMkEKvo0f"
      }
    },
    {
      "cell_type": "markdown",
      "source": [
        "**Analysis of Item_Outlet_Sales**\n",
        "<a id='section-7.0.1.5'></a>\n",
        "\n",
        "---"
      ],
      "metadata": {
        "id": "y_1oBsxmT8X3"
      }
    },
    {
      "cell_type": "code",
      "source": [
        "# Analysis of Item_Outlet_Sales\n",
        "\n",
        "plt.figure(figsize = (8,6))\n",
        "sns.distplot(tr_data['Item_Outlet_Sales'])\n",
        "plt.title('Item Outlet Sales Distribution')\n",
        "plt.show()"
      ],
      "metadata": {
        "id": "KpsDnLiUTkAm"
      },
      "execution_count": null,
      "outputs": []
    },
    {
      "cell_type": "markdown",
      "source": [
        "<h5><a href=\"#section-0\" style=\"color:#451FA4;\">Back To Content Table</a></h5>\n"
      ],
      "metadata": {
        "id": "jqjpRA-Wvp47"
      }
    },
    {
      "cell_type": "markdown",
      "source": [
        "<h1>Numeric columns realizations:\n",
        "\n",
        "* `Item_Weight` - The data is very spreaded, no specific pattern.\n",
        "* `Item_Visibility` - Appears to be spreaded as well but some concentration around the (0,0) indicate small visibility items are not selling well is some cases.\n",
        "* `Item_MRP` - Items with higher MRP tend to sell better in most cases.\n",
        "* `Outlet_Age` - The most common outlets are 35 years old.\n",
        "* `Item_Outlet_Sales` - Appears to be spreaded as well but sales more than 8000 are very less leading to lowest sales"
      ],
      "metadata": {
        "id": "wwDZoJrCWO8a"
      }
    },
    {
      "cell_type": "markdown",
      "source": [
        "### Bivariate Analysis\n",
        "Our target is `Item_Outlet_Sales`:\n",
        "\n",
        "<a id='section-7.1'></a>\n",
        "so,\n",
        "\n",
        "* Sales per item type\n",
        "* Sales per outlet\n",
        "* Sales per outlet type\n",
        "* Sales per outlet size\n",
        "* Sales per location type"
      ],
      "metadata": {
        "id": "_Brg9k1EZi0Y"
      }
    },
    {
      "cell_type": "markdown",
      "source": [
        "**Analysis of Sales per item type**\n",
        "<a id='section-7.1.0'></a>\n",
        "\n",
        "----"
      ],
      "metadata": {
        "id": "ubloKGgbbHxh"
      }
    },
    {
      "cell_type": "code",
      "source": [
        "# Analysis of Sales per item type\n",
        "\n",
        "plt.figure(figsize=(27,10))\n",
        "sns.barplot(x='Item_Type', y='Item_Outlet_Sales', data=tr_data, palette='gist_rainbow_r')\n",
        "plt.xlabel('Item_Type', fontsize=14)\n",
        "plt.legend()\n",
        "\n",
        "plt.show()"
      ],
      "metadata": {
        "id": "LKHO8MTCbNUa"
      },
      "execution_count": null,
      "outputs": []
    },
    {
      "cell_type": "markdown",
      "source": [
        "<h5><a href=\"#section-0\" style=\"color:#451FA4;\">Back To Content Table</a></h5>\n"
      ],
      "metadata": {
        "id": "Je1A91VVvstQ"
      }
    },
    {
      "cell_type": "markdown",
      "source": [
        "**Analysis of Sales per outlet**\n",
        "<a id='section-7.1.1'></a>\n",
        "\n",
        "----"
      ],
      "metadata": {
        "id": "fuxheiNSbMzK"
      }
    },
    {
      "cell_type": "code",
      "source": [
        "# Analysis of Sales per outlet\n",
        "\n",
        "plt.figure(figsize=(27,10))\n",
        "sns.barplot(x='Outlet_Identifier' , y='Item_Outlet_Sales', data=tr_data ,palette='gist_rainbow')\n",
        "plt.xlabel('Outlet_Identifier', fontsize=14)\n",
        "plt.legend()\n",
        "plt.show()"
      ],
      "metadata": {
        "id": "Bve0PvHubTNh"
      },
      "execution_count": null,
      "outputs": []
    },
    {
      "cell_type": "markdown",
      "source": [
        "<h5><a href=\"#section-0\" style=\"color:#451FA4;\">Back To Content Table</a></h5>\n"
      ],
      "metadata": {
        "id": "XLRBVN_ivt5D"
      }
    },
    {
      "cell_type": "markdown",
      "source": [
        "**Analysis of Sales per outlet type**\n",
        "<a id='section-7.1.2'></a>\n",
        "\n",
        "----"
      ],
      "metadata": {
        "id": "1HNA7z2gbSue"
      }
    },
    {
      "cell_type": "code",
      "source": [
        "# Analysis of Sales per outlet type\n",
        "\n",
        "plt.figure(figsize=(10,5))\n",
        "sns.barplot(x='Outlet_Type' , y='Item_Outlet_Sales', data=tr_data ,palette='nipy_spectral')\n",
        "plt.xlabel('Outlet_Type', fontsize=14)\n",
        "plt.legend()\n",
        "plt.show()"
      ],
      "metadata": {
        "id": "zckwlQ_ObZzl"
      },
      "execution_count": null,
      "outputs": []
    },
    {
      "cell_type": "markdown",
      "source": [
        "<h5><a href=\"#section-0\" style=\"color:#451FA4;\">Back To Content Table</a></h5>\n"
      ],
      "metadata": {
        "id": "PGcdxV8Fvu-O"
      }
    },
    {
      "cell_type": "markdown",
      "source": [
        "**Analysis of Sales per outlet size**\n",
        "<a id='section-7.1.3'></a>\n",
        "\n",
        "\n",
        "\n",
        "----"
      ],
      "metadata": {
        "id": "WFouXQ45baWh"
      }
    },
    {
      "cell_type": "code",
      "source": [
        "# Analysis of Sales per outlet size\n",
        "\n",
        "plt.figure(figsize=(10,5))\n",
        "sns.barplot(x='Outlet_Size' , y='Item_Outlet_Sales', data=tr_data ,palette='YlOrRd')\n",
        "plt.xlabel('Outlet_Size', fontsize=14)\n",
        "plt.legend()\n",
        "plt.show()"
      ],
      "metadata": {
        "id": "85QD6dHabko5"
      },
      "execution_count": null,
      "outputs": []
    },
    {
      "cell_type": "markdown",
      "source": [
        "<h5><a href=\"#section-0\" style=\"color:#451FA4;\">Back To Content Table</a></h5>\n"
      ],
      "metadata": {
        "id": "ZBjIHpWUvv15"
      }
    },
    {
      "cell_type": "markdown",
      "source": [
        "**Analysis of Sales per location type**\n",
        "<a id='section-7.1.4'></a>\n",
        "\n",
        "----"
      ],
      "metadata": {
        "id": "KSNKuHviblBV"
      }
    },
    {
      "cell_type": "code",
      "source": [
        "# Analysis of Sales per location type\n",
        "\n",
        "plt.figure(figsize=(10,5))\n",
        "sns.barplot(x='Outlet_Location_Type' ,y='Item_Outlet_Sales', data=tr_data ,palette='Spectral')\n",
        "plt.xlabel('Outlet_Location_Type', fontsize=14)\n",
        "plt.legend()\n",
        "plt.show()"
      ],
      "metadata": {
        "id": "WWXwgkiYboNG"
      },
      "execution_count": null,
      "outputs": []
    },
    {
      "cell_type": "markdown",
      "source": [
        "<h5><a href=\"#section-0\" style=\"color:#451FA4;\">Back To Content Table</a></h5>\n"
      ],
      "metadata": {
        "id": "17UOnwmJvw9j"
      }
    },
    {
      "cell_type": "markdown",
      "source": [
        "<h2>Realizations:\n",
        "\n",
        "* `Sales per item type` - The difference in item types by sales is very small.\n",
        "* `Sales per outlet` - Outlet 27 is the most profitable and there is a big diffrence between each specific outlet sales.\n",
        "* `Sales per outlet type` - Suprisingly supermarket type 3 is the most profitable and not type 1.\n",
        "* `Sales per outlet size` - Medium and high outlet sizes are pretty much even in sales.\n",
        "* `Sales per location type` - Tier 2 and 3 are almost even being the highest in sales (2 is slightly larger)."
      ],
      "metadata": {
        "id": "1OH7HY2bdpBc"
      }
    },
    {
      "cell_type": "code",
      "source": [
        "#plotting the correlation matrix\n",
        "sns.heatmap(tr_data.corr() ,cmap='rocket')"
      ],
      "metadata": {
        "id": "dC9TPAlnGlXr"
      },
      "execution_count": null,
      "outputs": []
    },
    {
      "cell_type": "markdown",
      "source": [
        "<h3><b>Observation:</b></h3>\n",
        "\n",
        "\n",
        "We can see Item_Outlet_Sales is highly correlated with Item_MRP\n"
      ],
      "metadata": {
        "id": "8sV87VnzeJ6w"
      }
    },
    {
      "cell_type": "markdown",
      "source": [
        "<h2>Some other Bivariate Analysis:\n",
        "\n",
        "<a id='section-7.2'></a>\n",
        "\n",
        "- Analysis of Item Visibility and Outlet Size\n",
        "- Analysis of Item Visibility and Outlet Type\n",
        "- Analysis of Outlet Establishment Year and Outlet Type\n",
        "- Analysis of Outlet Establishment Year and Outlet Location Type\n",
        "- Analysis of Outlet Establishment Year and Item Outlet Sales\n",
        "- Analysis of Outlet Size and Outlet Type\n",
        "- Analysis of Outlet Size and Outlet Location Type\n",
        "- Analysis of Outlet Location Type and Outlet Type"
      ],
      "metadata": {
        "id": "J9FVZoVXei7A"
      }
    },
    {
      "cell_type": "markdown",
      "source": [
        "**Analysis of Item Visibility and Outlet Size**\n",
        "<a id='section-7.2.1'></a>\n",
        "\n",
        "---"
      ],
      "metadata": {
        "id": "BBxu-c2pi-qi"
      }
    },
    {
      "cell_type": "code",
      "source": [
        "# Analysis of Item Visibility and Outlet Size\\\n",
        "\n",
        "plt.figure(figsize=(10,6))\n",
        "sns.stripplot(x = 'Outlet_Size',y = 'Item_Visibility',data=tr_data)\n",
        "plt.show()"
      ],
      "metadata": {
        "id": "tiXXbexzi_Lf"
      },
      "execution_count": null,
      "outputs": []
    },
    {
      "cell_type": "markdown",
      "source": [
        "<h5><a href=\"#section-0\" style=\"color:#451FA4;\">Back To Content Table</a></h5>\n"
      ],
      "metadata": {
        "id": "IBYv0mXbvzzf"
      }
    },
    {
      "cell_type": "markdown",
      "source": [
        "**Analysis of Item Visibility and Outlet Type**\n",
        "<a id='section-7.2.2'></a>\n",
        "\n",
        "---"
      ],
      "metadata": {
        "id": "yLvD5K0qjMAg"
      }
    },
    {
      "cell_type": "code",
      "source": [
        "# Analysis of Item Visibility and Outlet Type\n",
        "\n",
        "plt.figure(figsize=(10,6))\n",
        "sns.stripplot(x = 'Outlet_Type',y = 'Item_Visibility',data=tr_data)\n",
        "plt.show()"
      ],
      "metadata": {
        "id": "t-F3Q0dQjJyi"
      },
      "execution_count": null,
      "outputs": []
    },
    {
      "cell_type": "markdown",
      "source": [
        "<h5><a href=\"#section-0\" style=\"color:#451FA4;\">Back To Content Table</a></h5>\n"
      ],
      "metadata": {
        "id": "kgpq5ry5v04Z"
      }
    },
    {
      "cell_type": "markdown",
      "source": [
        "**Analysis of Outlet Establishment Year and Outlet Type**\n",
        "<a id='section-7.2.3'></a>\n",
        "\n",
        "---"
      ],
      "metadata": {
        "id": "eoFvwh7AjpqG"
      }
    },
    {
      "cell_type": "code",
      "source": [
        "# Analysis of Outlet Establishment Year and Outlet Type\n",
        "\n",
        "plt.figure(figsize = (8,6))\n",
        "sns.countplot(x = 'Outlet_Establishment_Year',hue = 'Outlet_Type',data=tr_data)\n",
        "plt.xlabel('Outlet Establishment Year')\n",
        "plt.legend(loc = 'best')\n",
        "plt.show()"
      ],
      "metadata": {
        "id": "iTSPzwuUjtNe"
      },
      "execution_count": null,
      "outputs": []
    },
    {
      "cell_type": "markdown",
      "source": [
        "<h5><a href=\"#section-0\" style=\"color:#451FA4;\">Back To Content Table</a></h5>\n"
      ],
      "metadata": {
        "id": "mFBfG1WGv1p_"
      }
    },
    {
      "cell_type": "markdown",
      "source": [
        "**Analysis of Outlet Establishment Year and Outlet Location Type**\n",
        "<a id='section-7.2.4'></a>\n",
        "\n",
        "---"
      ],
      "metadata": {
        "id": "HtoFjjchj9Nk"
      }
    },
    {
      "cell_type": "code",
      "source": [
        "# Analysis of Outlet Establishment Year and Outlet Location Type\n",
        "\n",
        "plt.figure(figsize = (8,6))\n",
        "sns.countplot(x = 'Outlet_Establishment_Year',hue = 'Outlet_Location_Type',data=tr_data)\n",
        "plt.xlabel('Outlet Establishment Year')\n",
        "plt.legend(loc = 'best')\n",
        "plt.show()"
      ],
      "metadata": {
        "id": "Z8e76BDMkAWe"
      },
      "execution_count": null,
      "outputs": []
    },
    {
      "cell_type": "markdown",
      "source": [
        "<h5><a href=\"#section-0\" style=\"color:#451FA4;\">Back To Content Table</a></h5>\n"
      ],
      "metadata": {
        "id": "MXO5AT5Pv3VD"
      }
    },
    {
      "cell_type": "markdown",
      "source": [
        "**Analysis of Outlet Establishment Year and Item Outlet Sales**\n",
        "<a id='section-7.2.5'></a>\n",
        "\n",
        "---"
      ],
      "metadata": {
        "id": "Zb8_PQ0tkIUt"
      }
    },
    {
      "cell_type": "code",
      "source": [
        "# Analysis of Outlet Establishment Year and Item Outlet Sales\n",
        "\n",
        "plt.figure(figsize=(20, 10))\n",
        "fig = sns.boxplot(x='Outlet_Establishment_Year', y=\"Item_Outlet_Sales\", data=tr_data)\n",
        "plt.xticks(rotation=90)\n",
        "plt.show()"
      ],
      "metadata": {
        "id": "-4rviZ3VkK0C"
      },
      "execution_count": null,
      "outputs": []
    },
    {
      "cell_type": "markdown",
      "source": [
        "<h5><a href=\"#section-0\" style=\"color:#451FA4;\">Back To Content Table</a></h5>\n"
      ],
      "metadata": {
        "id": "4eu9w1_Jv4cy"
      }
    },
    {
      "cell_type": "markdown",
      "source": [
        "**Analysis of Outlet Size and Outlet Type**\n",
        "<a id='section-7.2.6'></a>\n",
        "\n",
        "---"
      ],
      "metadata": {
        "id": "qrk9UZv7k79a"
      }
    },
    {
      "cell_type": "code",
      "source": [
        "# Analysis of Outlet Size and Outlet Type\n",
        "\n",
        "plt.figure(figsize = (10,8))\n",
        "total = float(len(tr_data))\n",
        "ax = sns.countplot(x = 'Outlet_Type',hue = 'Outlet_Size',data=tr_data)\n",
        "plt.xlabel('Outlet Type')\n",
        "plt.legend(loc = 'upper right')\n",
        "for p in ax.patches:\n",
        "    percentage = '{:.1f}%'.format(100 * p.get_height()/total)\n",
        "    x = p.get_x() + p.get_width() / 2.\n",
        "    y = p.get_height()\n",
        "    ax.annotate(percentage, (x, y),ha='center',va='bottom')\n",
        "plt.show()"
      ],
      "metadata": {
        "id": "v6rLsq6Vk2hd"
      },
      "execution_count": null,
      "outputs": []
    },
    {
      "cell_type": "markdown",
      "source": [
        "<h5><a href=\"#section-0\" style=\"color:#451FA4;\">Back To Content Table</a></h5>\n"
      ],
      "metadata": {
        "id": "_gL5iZU4v6Gn"
      }
    },
    {
      "cell_type": "markdown",
      "source": [
        "**Analysis of Outlet Size and Outlet Location Type**\n",
        "<a id='section-7.2.7'></a>\n",
        "\n",
        "---\n"
      ],
      "metadata": {
        "id": "yOfADwF2lOfd"
      }
    },
    {
      "cell_type": "code",
      "source": [
        "# Analysis of Outlet Size and Outlet Location Type\n",
        "\n",
        "plt.figure(figsize = (10,8))\n",
        "total = float(len(tr_data))\n",
        "ax = sns.countplot(x = 'Outlet_Size',hue = 'Outlet_Location_Type',data=tr_data)\n",
        "plt.xlabel('Outlet Size')\n",
        "plt.legend(loc = 'upper right')\n",
        "for p in ax.patches:\n",
        "    percentage = '{:.1f}%'.format(100 * p.get_height()/total)\n",
        "    x = p.get_x() + p.get_width() / 2.\n",
        "    y = p.get_height()\n",
        "    ax.annotate(percentage, (x, y),ha='center',va='bottom')\n",
        "plt.show()"
      ],
      "metadata": {
        "id": "dqIAlHo-lR7I"
      },
      "execution_count": null,
      "outputs": []
    },
    {
      "cell_type": "markdown",
      "source": [
        "<h5><a href=\"#section-0\" style=\"color:#451FA4;\">Back To Content Table</a></h5>\n"
      ],
      "metadata": {
        "id": "g89ZUhLdv7OU"
      }
    },
    {
      "cell_type": "markdown",
      "source": [
        "**Analysis of Outlet Location Type and Outlet Type**\n",
        "<a id='section-7.2.8'></a>\n",
        "\n",
        "---"
      ],
      "metadata": {
        "id": "4TjS-1SUmB6c"
      }
    },
    {
      "cell_type": "code",
      "source": [
        "# Analysis of Outlet Location Type and Outlet Type\n",
        "\n",
        "plt.figure(figsize = (10,8))\n",
        "total = float(len(tr_data))\n",
        "ax = sns.countplot(x = 'Outlet_Type',hue = 'Outlet_Location_Type',data=tr_data)\n",
        "plt.xlabel('Outlet Type')\n",
        "plt.legend(loc = 'upper right')\n",
        "for p in ax.patches:\n",
        "    percentage = '{:.1f}%'.format(100 * p.get_height()/total)\n",
        "    x = p.get_x() + p.get_width() / 2.\n",
        "    y = p.get_height()\n",
        "    ax.annotate(percentage, (x, y),ha='center',va='bottom')\n",
        "plt.show()"
      ],
      "metadata": {
        "id": "oPNaPlJimHXO"
      },
      "execution_count": null,
      "outputs": []
    },
    {
      "cell_type": "markdown",
      "source": [
        "<h5><a href=\"#section-0\" style=\"color:#451FA4;\">Back To Content Table</a></h5>\n"
      ],
      "metadata": {
        "id": "J10TuO62v8J0"
      }
    },
    {
      "cell_type": "markdown",
      "source": [
        "- `Analysis of Item Visibility and Outlet Size` - Smallest Stores provide the most visibility to products.\n",
        "- `Analysis of Item Visibility and Outlet Type` - Products are most visible in grocery stores rather than any other super markets.\n",
        "- `Analysis of Outlet Establishment Year and Outlet Type ` - Supermarket type 2 was build much later while grocery stores and supermarket Type1 and Type3 are the oldest outlet type.\n",
        "- `Analysis of Outlet Establishment Year and Outlet Location Type` - In Tier1 and Tier3 cities outlets were established in 1985 whereas tier2 got outlets after 2000\n",
        "- `Analysis of Outlet Establishment Year and Item Outlet Sales ` -\n",
        "- `Analysis of Outlet Size and Outlet Type` - In 1998 year the sales are very low.\n",
        "- `Analysis of Outlet Size and Outlet Location Type `\n",
        " - Tier 2 cities have only small outlet size and high outlet size is only found in tier 3 cities.\n",
        " - Tier 3 cities have the highest number of medium size outlet and tier 2 cities have highest number of small size outlets.\n",
        "- `Analysis of Outlet Location Type and Outlet Type `\n",
        " - Tier 2 cities have only Superkarket type 1 whereas Tier 1 cities have only supermarket type 1 and grocery strores.\n",
        " - Tier 2 cities have the highest no. of supermarket type 1 whereas tier 3 cities have all the types of outlets with less no. of each of them."
      ],
      "metadata": {
        "id": "Huf2BxOehiLc"
      }
    },
    {
      "cell_type": "markdown",
      "source": [
        "## Feature Engineering\n",
        "\n",
        "<a id='section-8'></a>"
      ],
      "metadata": {
        "id": "YFgS8qw_ncA6"
      }
    },
    {
      "cell_type": "markdown",
      "source": [
        "**Categorical values**:\n",
        "\n",
        "We have 7 columns we need to delete or encode.\n",
        "\n",
        "* Ordinal variables:\n",
        "    * `Item_Fat_Content`  \n",
        "    * `Outlet_Size`  \n",
        "    * `Outlet_Location_Type`\n",
        "    \n",
        "* Nominal variables:\n",
        "    * `Item_Identifier `  \n",
        "    * `Item_Type`\n",
        "    * `Outlet_Identifier`\n",
        "    * `Outlet_Type`\n",
        "\n",
        "**Numeric values**:\n",
        "\n",
        "* From the numeric variables `Outlet_Establishment_Year` is no longer needed\n",
        "\n",
        "**Conclusion:**\n",
        "\n",
        "In my FE process i have decided:\n",
        "\n",
        "1. The columns `Outlet_Establishment_Year`, `Item_Identifier ` and `Outlet_Identifier` don't have significant values so we will drop them.\n",
        "2. All Ordinal variables will be Label encoded.\n",
        "3. The columns `Outlet_Type` and `Item_Type`  will be One Hot encoded."
      ],
      "metadata": {
        "id": "FMMZt8y0niua"
      }
    },
    {
      "cell_type": "code",
      "source": [
        "tr_data.select_dtypes('object').apply(lambda x: x.nunique()) #checking the number of unique values in each categorical column"
      ],
      "metadata": {
        "id": "ghDPsG3qngij"
      },
      "execution_count": null,
      "outputs": []
    },
    {
      "cell_type": "code",
      "source": [
        "#lable encoding\n",
        "\n",
        "le = LabelEncoder()\n",
        "Label = ['Item_Fat_Content','Outlet_Size','Outlet_Location_Type']\n",
        "\n",
        "for i in Label:\n",
        "    tr_data[i] = le.fit_transform(tr_data[i])\n",
        "    tr_data[i] = le.fit_transform(tr_data[i])\n",
        "\n",
        "tr_data.head()"
      ],
      "metadata": {
        "id": "hXEPh3Y6p4PH"
      },
      "execution_count": null,
      "outputs": []
    },
    {
      "cell_type": "code",
      "source": [
        "\n",
        "# Specify columns for one-hot encoding\n",
        "cols = ['Item_Type', 'Outlet_Type']\n",
        "\n",
        "# Initialize OneHotEncoder\n",
        "encoder = OneHotEncoder(handle_unknown='ignore', sparse=False)\n",
        "\n",
        "# Apply one-hot encoding to training and testing data\n",
        "tr_oh = encoder.fit_transform(tr_data[cols])\n",
        "te_oh = encoder.transform(te_data[cols])\n",
        "\n",
        "# Get one-hot encoded feature names\n",
        "tr_oh_columns = encoder.get_feature_names_out(cols)\n",
        "te_oh_columns = encoder.get_feature_names_out(cols)\n",
        "\n",
        "# Convert the arrays to DataFrames\n",
        "tr_oh_df = pd.DataFrame(tr_oh, columns=tr_oh_columns, index=tr_data.index)\n",
        "te_oh_df = pd.DataFrame(te_oh, columns=te_oh_columns, index=te_data.index)\n",
        "\n",
        "# Concatenate one-hot encoded features with the original data\n",
        "tr_fe = pd.concat([tr_data, tr_oh_df], axis=1)\n",
        "te_fe = pd.concat([te_data, te_oh_df], axis=1)\n",
        "\n"
      ],
      "metadata": {
        "id": "vlZjcofrqQqx"
      },
      "execution_count": null,
      "outputs": []
    },
    {
      "cell_type": "code",
      "source": [
        "# Dropping irrelevant columns\n",
        "\n",
        "tr_fe  = tr_fe.drop(['Item_Identifier','Outlet_Identifier','Outlet_Establishment_Year','Outlet_Type','Item_Type'],axis=1)\n",
        "te_fe = te_fe.drop(['Item_Identifier','Outlet_Identifier','Outlet_Establishment_Year','Outlet_Type','Item_Type'],axis=1)"
      ],
      "metadata": {
        "id": "AM84cQ4CrZF3"
      },
      "execution_count": null,
      "outputs": []
    },
    {
      "cell_type": "code",
      "source": [
        "# Recheck result\n",
        "\n",
        "tr_fe.head()"
      ],
      "metadata": {
        "id": "-48ORaSorkGJ"
      },
      "execution_count": null,
      "outputs": []
    },
    {
      "cell_type": "markdown",
      "source": [
        "<h5><a href=\"#section-0\" style=\"color:#451FA4;\">Back To Content Table</a></h5>"
      ],
      "metadata": {
        "id": "RyCppykqMmnx"
      }
    },
    {
      "cell_type": "markdown",
      "source": [
        "<h2> Splitting Dataset into `X` and `Y` variables</h2>\n",
        "\n",
        "<a id='section-9'></a>\n",
        "\n",
        "\n",
        "\n",
        "\n",
        "\n",
        "\n",
        "\n",
        "![](https://media3.giphy.com/media/hV7I784KY401MOJBF7/giphy.gif?cid=ecf05e477275law2rx6lmhlad27ewbatesu3pvkkt4vw9rgc&ep=v1_gifs_search&rid=giphy.gif&ct=g)\n",
        "\n",
        "\n",
        "\n",
        "First of all we will divide our dataset into two variables X as the features we defined earlier and y as the Item_Outlet_Sales the target value we want to predict.\n",
        "\n",
        "<h4>Assumptions:</h4>\n",
        "\n",
        "- This is a regression problem so we will use Regression methods.\n",
        "\n",
        "- Train test split will be a 8:2 ratio respectively.\n",
        "\n"
      ],
      "metadata": {
        "id": "ulDJUg6wu6kJ"
      }
    },
    {
      "cell_type": "markdown",
      "source": [
        "<h3> Models we will use:</h3>\n",
        "\n",
        "<a id='section-10'></a>\n",
        "\n",
        "\n",
        "\n",
        "- **Linear Regression**\n",
        "- **Random Forest Regressor**\n",
        "- **Lasso Regressor**\n",
        "\n",
        "<h2>The Process of Modeling the Data:</h2>\n",
        "1. Importing the model\n",
        "\n",
        "2. Fitting the model\n",
        "\n",
        "3. Predicting Item Outlet Sales\n",
        "\n",
        "4. Regression metrics\n",
        "\n",
        "<h3>Score Metrics for Regression:</h3>\n",
        "- **Mean Absolute Error (MAE)** - Mean of the absolute value of errors (absolute distance from true value):\n",
        "Smaller MAE values indicate better model performance.\n",
        "\n",
        "![](data:image/jpeg;base64,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)\n",
        "\n",
        "- **Mean Squared Error (MSE)** - Mean of the squared value of errors (squared distance from true value):\n",
        "Smaller MSE values indicate better model performance.\n",
        "![](data:image/png;base64,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)\n",
        "\n",
        "\n",
        "- **R^2 (coefficient of determination)** - Regression score function.:\n",
        "An R^2 score closer to 1 indicates a better fit.\n",
        "\n",
        "![](data:image/png;base64,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)"
      ],
      "metadata": {
        "id": "ak6UkRdLGbvH"
      }
    },
    {
      "cell_type": "code",
      "source": [
        "y = tr_fe['Item_Outlet_Sales']\n",
        "X = tr_fe.drop('Item_Outlet_Sales', axis = 1)\n",
        "X_train, X_test, y_train, y_test = train_test_split(X, y, test_size = 0.8, random_state = 0)"
      ],
      "metadata": {
        "id": "zc2jFIXMtA85"
      },
      "execution_count": null,
      "outputs": []
    },
    {
      "cell_type": "code",
      "source": [
        "def cross_val(model_name,model,X,y,cv):\n",
        "\n",
        "    scores = CVS(model, X, y, cv=cv)\n",
        "    print(f'{model_name} Scores:')\n",
        "    for i in scores:\n",
        "        print(round(i,2))\n",
        "    print(f'Average {model_name} score: {round(scores.mean(),4)}')"
      ],
      "metadata": {
        "id": "L4_g7EOO1J9-"
      },
      "execution_count": null,
      "outputs": []
    },
    {
      "cell_type": "markdown",
      "source": [
        "<h5><a href=\"#section-0\" style=\"color:#451FA4;\">Back To Content Table</a></h5>"
      ],
      "metadata": {
        "id": "wP77BgWjMokJ"
      }
    },
    {
      "cell_type": "markdown",
      "source": [
        "<h2>Linear Regression</h2>\n",
        "<a id='section-10.1'></a>\n",
        "\n",
        "\n",
        "In statistics, linear regression is a linear approach to modelling the relationship between a scalar response (or dependent variable) and one or more explanatory variables (or independent variables).\n",
        "\n",
        "<img src=\"https://cdn-images-1.medium.com/max/1600/1*k2bLmeYIG7z7dCyxADedhQ.png\" alt=\"Image\" style=\"width:100px;height:100px;\">\n",
        "\n",
        "\n",
        "<img src=\"https://vitalflux.com/wp-content/uploads/2020/09/Regression-terminologies.png\" alt=\"Image\" style=\"width:100px;height:100px;\">\n",
        "\n",
        "\n"
      ],
      "metadata": {
        "id": "kxcPBsKH4HRT"
      }
    },
    {
      "cell_type": "code",
      "source": [
        "#model\n",
        "LR = LinearRegression()\n",
        "\n",
        "#fit\n",
        "LR.fit(X_train, y_train)\n",
        "\n",
        "#predict\n",
        "LR_y_predict = LR.predict(X_test)\n",
        "\n",
        "#score variables\n",
        "LR_MAE = round(MAE(y_test, LR_y_predict),2)\n",
        "LR_MSE = round(MSE(y_test, LR_y_predict),2)\n",
        "LR_R_2 = round(R2(y_test, LR_y_predict),4)\n",
        "LR_CS  = round(CVS(LR, X, y, cv=5).mean(),4)\n",
        "\n",
        "print(f\" Mean Absolute Error: {LR_MAE}\\n\")\n",
        "print(f\" Mean Squared Error: {LR_MSE}\\n\")\n",
        "print(f\" R^2 Score: {LR_R_2}\\n\")\n",
        "cross_val(LR,LinearRegression(),X,y,5)"
      ],
      "metadata": {
        "id": "zk1EI6Hy1mNa"
      },
      "execution_count": null,
      "outputs": []
    },
    {
      "cell_type": "code",
      "source": [
        "# Plot the predicted values vs. actual values\n",
        "plt.figure(figsize=(8, 6))\n",
        "plt.scatter(y_test, LR_y_predict, color='blue')\n",
        "plt.plot([min(y_test), max(y_test)], [min(y_test), max(y_test)], linestyle='--', color='red', linewidth=2)\n",
        "plt.xlabel('Actual Values')\n",
        "plt.ylabel('Predicted Values')\n",
        "plt.title('Ridge Regression: Actual vs. Predicted')\n",
        "plt.show()"
      ],
      "metadata": {
        "id": "Ot7ZX3tYB6Zx"
      },
      "execution_count": null,
      "outputs": []
    },
    {
      "cell_type": "code",
      "source": [
        "#  You can see each predition and true value side by side by the csv created in the output directory.\n",
        "\n",
        "Linear_Regression=pd.DataFrame({'y_test':y_test,'prediction':LR_y_predict})\n",
        "Linear_Regression.to_csv(\"Linear Regression.csv\")"
      ],
      "metadata": {
        "id": "hhaioRsH7OR7"
      },
      "execution_count": null,
      "outputs": []
    },
    {
      "cell_type": "markdown",
      "source": [
        "<h5><a href=\"#section-0\" style=\"color:#451FA4;\">Back To Content Table</a></h5>"
      ],
      "metadata": {
        "id": "E4jCwNabMqzG"
      }
    },
    {
      "cell_type": "markdown",
      "source": [
        "<h1>Lasso Regressor</h1>\n",
        "\n",
        "<a id='section-10.2'></a>\n",
        "\n",
        "Lasso stands for \"Least Absolute Shrinkage and Selection Operator.\" In Lasso regression, the penalty added to the cost function is proportional to the absolute value of the coefficients. This penalty tends to drive some coefficients to exactly zero, effectively performing feature selection by excluding less important features. Lasso can be useful when dealing with datasets with a large number of features."
      ],
      "metadata": {
        "id": "aTQbLfxW-HfC"
      }
    },
    {
      "cell_type": "code",
      "source": [
        "#model\n",
        "LS = Lasso(alpha = 0.05)\n",
        "#fit\n",
        "LS.fit(X_train,y_train)\n",
        "\n",
        "#predict\n",
        "LS_y_predict = LS.predict(X_test)\n",
        "\n",
        "#score variables\n",
        "LS_MAE = round(MAE(y_test, LS_y_predict),2)\n",
        "LS_MSE = round(MSE(y_test, LS_y_predict),2)\n",
        "LS_R_2 = round(R2(y_test, LS_y_predict),4)\n",
        "LS_CS  = round(CVS(LS, X, y, cv=5).mean(),4)\n",
        "\n",
        "print(f\" Mean Absolute Error: {LS_MAE}\\n\")\n",
        "print(f\" Mean Squared Error: {LS_MSE}\\n\")\n",
        "print(f\" R^2 Score: {LS_R_2}\\n\")\n",
        "cross_val(LS,Lasso(alpha = 0.05),X,y,5)"
      ],
      "metadata": {
        "id": "R9Yl4SS9-IcJ"
      },
      "execution_count": null,
      "outputs": []
    },
    {
      "cell_type": "code",
      "source": [
        "# Plot the predicted values vs. actual values\n",
        "plt.figure(figsize=(8, 6))\n",
        "plt.scatter(y_test, LS_y_predict, color='blue')\n",
        "plt.plot([min(y_test), max(y_test)], [min(y_test), max(y_test)], linestyle='--', color='red', linewidth=2)\n",
        "plt.xlabel('Actual Values')\n",
        "plt.ylabel('Predicted Values')\n",
        "plt.title('Ridge Regression: Actual vs. Predicted')\n",
        "plt.show()"
      ],
      "metadata": {
        "id": "SMJNY7bKCNIb"
      },
      "execution_count": null,
      "outputs": []
    },
    {
      "cell_type": "code",
      "source": [
        "# You can see each predition and true value side by side by the csv created in the output directory.\n",
        "\n",
        "Lasso_Regressor=pd.DataFrame({'y_test':y_test,'prediction':LS_y_predict})\n",
        "Lasso_Regressor.to_csv(\"Lasso Regressor.csv\")"
      ],
      "metadata": {
        "id": "7lyz3uPjDEkx"
      },
      "execution_count": null,
      "outputs": []
    },
    {
      "cell_type": "markdown",
      "source": [
        "<h5><a href=\"#section-0\" style=\"color:#451FA4;\">Back To Content Table</a></h5>"
      ],
      "metadata": {
        "id": "cEZOPuhHMsmh"
      }
    },
    {
      "cell_type": "markdown",
      "source": [
        "<h1>Ridge Regression</h1>\n",
        "<a id='section-10.3'></a>\n",
        "\n",
        "Ridge regression adds a penalty term that is proportional to the square of the coefficients to the cost function. This penalty discourages large coefficients but doesn't force them to be exactly zero. Ridge regression can help prevent multicollinearity (high correlation between features) and is useful when there might be many correlated features."
      ],
      "metadata": {
        "id": "499TEbMa-Qr5"
      }
    },
    {
      "cell_type": "code",
      "source": [
        "# Create Ridge Regression model\n",
        "RG = Ridge(alpha=0.05)\n",
        "\n",
        "# Fit the model\n",
        "RG.fit(X_train, y_train)\n",
        "\n",
        "# Predict using the model\n",
        "RG_y_predict = RG.predict(X_test)\n",
        "\n",
        "# Calculate evaluation metrics\n",
        "RG_MAE = round(MAE(y_test, RG_y_predict), 2)\n",
        "RG_MSE = round(MSE(y_test, RG_y_predict), 2)\n",
        "RG_R_2 = round(R2(y_test, RG_y_predict), 4)\n",
        "RG_CS  = round(CVS(RG, X, y, cv=5).mean(),4)\n",
        "\n",
        "print(f\"Mean Absolute Error: {RG_MAE}\")\n",
        "print(f\"Mean Squared Error: {RG_MSE}\")\n",
        "print(f\"R^2 Score: {RG_R_2}\")\n",
        "cross_val(RG,Ridge(alpha = 0.05),X,y,5)"
      ],
      "metadata": {
        "id": "d9l1bZde-QZQ"
      },
      "execution_count": null,
      "outputs": []
    },
    {
      "cell_type": "code",
      "source": [
        "# Plot the predicted values vs. actual values\n",
        "plt.figure(figsize=(8, 6))\n",
        "plt.scatter(y_test, RG_y_predict, color='blue')\n",
        "plt.plot([min(y_test), max(y_test)], [min(y_test), max(y_test)], linestyle='--', color='red', linewidth=2)\n",
        "plt.xlabel('Actual Values')\n",
        "plt.ylabel('Predicted Values')\n",
        "plt.title('Ridge Regression: Actual vs. Predicted')\n",
        "plt.show()"
      ],
      "metadata": {
        "id": "6AwiTPhM_C8B"
      },
      "execution_count": null,
      "outputs": []
    },
    {
      "cell_type": "code",
      "source": [
        "# You can see each predition and true value side by side by the csv created in the output directory.\n",
        "\n",
        "Ridge_Regressor=pd.DataFrame({'y_test':y_test,'prediction':RG_y_predict})\n",
        "Ridge_Regressor.to_csv(\"Ridge Regressor.csv\")"
      ],
      "metadata": {
        "id": "shy1zO4hDGIX"
      },
      "execution_count": null,
      "outputs": []
    },
    {
      "cell_type": "markdown",
      "source": [
        "<h5><a href=\"#section-0\" style=\"color:#451FA4;\">Back To Content Table</a></h5>"
      ],
      "metadata": {
        "id": "8I7vnxvkMuBo"
      }
    },
    {
      "cell_type": "markdown",
      "source": [
        "<h1>Random Forest Regressor:</h1>\n",
        "<a id='section-10.4'></a>\n",
        "\n",
        "Random forest is a Supervised Learning algorithm which uses ensemble learning method for classification and regression"
      ],
      "metadata": {
        "id": "jdQGO2dQ7WYy"
      }
    },
    {
      "cell_type": "code",
      "source": [
        "#model\n",
        "RFR= RandomForestRegressor(n_estimators=200,max_depth=5, min_samples_leaf=100,n_jobs=4,random_state=101)\n",
        "#fit\n",
        "RFR.fit(X_train, y_train)\n",
        "#predict\n",
        "RF_y_predict = RFR.predict(X_test)\n",
        "\n",
        "#score variables\n",
        "RFR_MAE = round(MAE(y_test, RF_y_predict),2)\n",
        "RFR_MSE = round(MSE(y_test, RF_y_predict),2)\n",
        "RFR_R_2 = round(R2(y_test, RF_y_predict),4)\n",
        "RFR_CS  = round(CVS(RFR, X, y, cv=5).mean(),4)\n",
        "\n",
        "\n",
        "\n",
        "print(f\" Mean Absolute Error: {RFR_MAE}\\n\")\n",
        "print(f\" Mean Squared Error: {RFR_MSE}\\n\")\n",
        "print(f\" R^2 Score: {RFR_R_2}\\n\")\n",
        "cross_val(RFR,RandomForestRegressor(),X,y,5)\n"
      ],
      "metadata": {
        "id": "RkFcBThx7gCN"
      },
      "execution_count": null,
      "outputs": []
    },
    {
      "cell_type": "code",
      "source": [
        "# Plot the predicted values vs. actual values\n",
        "plt.figure(figsize=(8, 6))\n",
        "plt.scatter(y_test, RG_y_predict, color='blue')\n",
        "plt.plot([min(y_test), max(y_test)], [min(y_test), max(y_test)], linestyle='--', color='red', linewidth=2)\n",
        "plt.xlabel('Actual Values')\n",
        "plt.ylabel('Predicted Values')\n",
        "plt.title('Ridge Regression: Actual vs. Predicted')\n",
        "plt.show()"
      ],
      "metadata": {
        "id": "0C4MEBfLC14E"
      },
      "execution_count": null,
      "outputs": []
    },
    {
      "cell_type": "code",
      "source": [
        "# You can see each predition and true value side by side by the csv created in the output directory.\n",
        "\n",
        "Random_Forest_Regressor=pd.DataFrame({'y_test':y_test,'prediction':RF_y_predict})\n",
        "Random_Forest_Regressor.to_csv(\"Random Forest Regressor.csv\")"
      ],
      "metadata": {
        "id": "CxEW0tnq7ydq"
      },
      "execution_count": null,
      "outputs": []
    },
    {
      "cell_type": "markdown",
      "source": [
        "<h5><a href=\"#section-0\" style=\"color:#451FA4;\">Back To Content Table</a></h5>"
      ],
      "metadata": {
        "id": "LkU0v9uwMvkr"
      }
    },
    {
      "cell_type": "markdown",
      "source": [
        "<h1> XGB\n",
        "<a id='section-10.5'></a>"
      ],
      "metadata": {
        "id": "Szx0KM9QE8bH"
      }
    },
    {
      "cell_type": "code",
      "source": [
        "# Create the XGBoost Regressor model\n",
        "XGB = XGBRegressor()\n",
        "\n",
        "# Fit the model to the training data\n",
        "XGB.fit(X_train, y_train)\n",
        "\n",
        "# Predict on the test data\n",
        "XGB_y_predict = XGB.predict(X_test)\n",
        "\n",
        "# Calculate evaluation metrics\n",
        "xgb_MAE = round(MAE(y_test, XGB_y_predict), 2)\n",
        "xgb_MSE = round(MSE(y_test, XGB_y_predict), 2)\n",
        "xgb_R_2 = round(R2(y_test, XGB_y_predict), 4)\n",
        "xgb_CS  = round(CVS(XGB, X, y, cv=5).mean(),4)\n",
        "\n",
        "\n",
        "print(f\" Mean Absolute Error: {xgb_MAE}\\n\")\n",
        "print(f\" Mean Squared Error: {xgb_MSE}\\n\")\n",
        "print(f\" R^2 Score: {xgb_R_2}\\n\")\n",
        "cross_val(XGB,XGBRegressor(),X,y,5)"
      ],
      "metadata": {
        "id": "_EOixHVxE8IY"
      },
      "execution_count": null,
      "outputs": []
    },
    {
      "cell_type": "code",
      "source": [
        "# Plot the predicted values vs. actual values\n",
        "plt.figure(figsize=(8, 6))\n",
        "plt.scatter(y_test, XGB_y_predict, color='blue')\n",
        "plt.plot([min(y_test), max(y_test)], [min(y_test), max(y_test)], linestyle='--', color='red', linewidth=2)\n",
        "plt.xlabel('Actual Values')\n",
        "plt.ylabel('Predicted Values')\n",
        "plt.title('Ridge Regression: Actual vs. Predicted')\n",
        "plt.show()"
      ],
      "metadata": {
        "id": "OJHBdcFVGsBe"
      },
      "execution_count": null,
      "outputs": []
    },
    {
      "cell_type": "markdown",
      "source": [
        "<h5><a href=\"#section-0\" style=\"color:#451FA4;\">Back To Content Table</a></h5>"
      ],
      "metadata": {
        "id": "dFW-mV4eMxiB"
      }
    },
    {
      "cell_type": "markdown",
      "source": [
        "# Conclusion\n",
        "<a id='section-11'></a>\n",
        "<img src=\"https://media3.giphy.com/media/j0vs5H7Kcz3Pm9LRDa/giphy.gif?cid=ecf05e479p7gnh0fehl1342k8tduk5o0i48w0b47ngo4z6n0&ep=v1_gifs_search&rid=giphy.gif&ct=g\" alt=\"Image\" style=\"width:100px;height:100px;\">\n"
      ],
      "metadata": {
        "id": "TZGXStEs8RaA"
      }
    },
    {
      "cell_type": "code",
      "source": [
        "MAE= [LR_MAE,LS_MAE,RG_MAE,RFR_MAE,xgb_MAE]\n",
        "MSE= [LR_MSE,LS_MSE,RG_MSE,RFR_MSE,xgb_MSE]\n",
        "R_2= [LR_R_2,LS_R_2,RG_R_2,RFR_R_2,xgb_R_2]\n",
        "Cross_score= [LR_CS,LS_CS,RG_CS,RFR_CS,xgb_CS]\n",
        "\n",
        "Models = pd.DataFrame({\n",
        "    'models': [\"Linear Regression\",\"Lasso Regressor\",\"Ridge Regressor\",\"Random Forest Regressor\",\"XGBoost\"],\n",
        "    'MAE': MAE, 'MSE': MSE, 'R^2':R_2, 'Cross Validation Score':Cross_score})\n",
        "Models.sort_values(by='MAE', ascending=True)"
      ],
      "metadata": {
        "id": "H70pwBMB8V_6"
      },
      "execution_count": null,
      "outputs": []
    },
    {
      "cell_type": "markdown",
      "source": [
        "## Realizations\n",
        "<a id='section-12'></a>\n",
        "* `Item_MRP`  optimizes Maximum Outlet sales (positive correlation with the target).\n",
        "* the Lasso Regressor and Ridge Regressor exhibit the best predictive performance for this dataset, closely followed by the Linear Regression model\n",
        "* The XGBoost model offers a reasonable compromise between prediction accuracy and complexity.\n",
        "* The Random Forest Regressor seems to have room for improvement in predictive accuracy compared to the other models. It is recommended to further fine-tune the hyperparameters of the top-performing models for potential enhancements.\n",
        "* For better peformance this models need tuning e.g. Grid Search."
      ],
      "metadata": {
        "id": "HKkExoCc89WH"
      }
    },
    {
      "cell_type": "markdown",
      "source": [
        "<h5><a href=\"#section-0\" style=\"color:#451FA4;\">Back To Content Table</a></h5>"
      ],
      "metadata": {
        "id": "OmRSTAvCM1YK"
      }
    },
    {
      "cell_type": "code",
      "source": [
        "from sklearn.model_selection import GridSearchCV\n",
        "from sklearn.preprocessing import StandardScaler, RobustScaler\n",
        "from sklearn.ensemble import GradientBoostingRegressor\n",
        "\n",
        "# Hyperparameter tuning for XGBoost\n",
        "param_grid_xgb = {\n",
        "    'n_estimators': [50, 100, 200],\n",
        "    'max_depth': [3, 4, 5],\n",
        "    'learning_rate': [0.01, 0.1, 0.2]\n",
        "}\n",
        "grid_search_xgb = GridSearchCV(estimator=XGB, param_grid=param_grid_xgb,\n",
        "                               scoring='neg_mean_squared_error', cv=5)\n",
        "grid_search_xgb.fit(X_train, y_train)\n",
        "best_xgb_model = grid_search_xgb.best_estimator_\n",
        "\n",
        "# Hyperparameter tuning for Gradient Boosting Regressor\n",
        "param_grid_gbr = {\n",
        "    'n_estimators': [50, 100, 200],\n",
        "    'max_depth': [3, 4, 5],\n",
        "    'learning_rate': [0.01, 0.1, 0.2]\n",
        "}\n",
        "gbr_model = GradientBoostingRegressor(random_state=42)\n",
        "grid_search_gbr = GridSearchCV(estimator=gbr_model, param_grid=param_grid_gbr,\n",
        "                               scoring='neg_mean_squared_error', cv=5)\n",
        "grid_search_gbr.fit(X_train, y_train)\n",
        "best_gbr_model = grid_search_gbr.best_estimator_\n",
        "\n",
        "# Standard Scaling\n",
        "scaler = StandardScaler()\n",
        "X_train_scaled = scaler.fit_transform(X_train)\n",
        "X_test_scaled = scaler.transform(X_test)\n",
        "\n",
        "# Robust Scaling\n",
        "robust_scaler = RobustScaler()\n",
        "X_train_robust = robust_scaler.fit_transform(X_train)\n",
        "X_test_robust = robust_scaler.transform(X_test)\n",
        "\n",
        "# Final predictions on the test dataset for each model\n",
        "xgb_test_pred = best_xgb_model.predict(X_test)\n",
        "gbr_test_pred = best_gbr_model.predict(X_test)\n"
      ],
      "metadata": {
        "id": "S2WNGcg1I0pK"
      },
      "execution_count": null,
      "outputs": []
    },
    {
      "cell_type": "code",
      "source": [
        "# Calculate metrics for XGBoost\n",
        "xgb_mse = MSE(y_test, xgb_test_pred)\n",
        "xgb_mae = MAE(y_test, xgb_test_pred)\n",
        "xgb_r2 = R2(y_test, xgb_test_pred)\n",
        "\n",
        "# Calculate metrics for Gradient Boosting\n",
        "gbr_mse = MSE(y_test, gbr_test_pred)\n",
        "gbr_mae = MAE(y_test, gbr_test_pred)\n",
        "gbr_r2 = R2(y_test, gbr_test_pred)\n",
        "\n",
        "# Print metrics\n",
        "print(\"XGBoost Metrics:\")\n",
        "print(\"MSE:\", xgb_mse)\n",
        "print(\"MAE:\", xgb_mae)\n",
        "print(\"R^2:\", xgb_r2)\n",
        "print()\n",
        "\n",
        "print(\"Gradient Boosting Metrics:\")\n",
        "print(\"MSE:\", gbr_mse)\n",
        "print(\"MAE:\", gbr_mae)\n",
        "print(\"R^2:\", gbr_r2)"
      ],
      "metadata": {
        "id": "kfHKsvSDPuMc"
      },
      "execution_count": null,
      "outputs": []
    },
    {
      "cell_type": "code",
      "source": [
        "cross_val(xgb_test_pred,XGBRegressor(),X,y,5)"
      ],
      "metadata": {
        "id": "TphPsm8tRA5d"
      },
      "execution_count": null,
      "outputs": []
    },
    {
      "cell_type": "markdown",
      "source": [
        "\n",
        "<h2> Knowledge:\n",
        "\n",
        "A machine learning model is performing in terms of its training and generalization capabilities as the amount of training data increases. The graph consists of two main lines and shaded areas:\n",
        "\n",
        "- **Training Score Line (Blue Line):**\n",
        "\n",
        "This line represents the model's performance on the training data.\n",
        "The y-axis represents the score (e.g., accuracy, R^2 score, etc.).\n",
        "The x-axis represents the size of the training dataset.\n",
        "\n",
        "- **Cross-Validation Score Line (Red Line):**\n",
        "\n",
        "This line represents the model's performance on a cross-validation set.\n",
        "The y-axis represents the score (e.g., accuracy, R^2 score, etc.).\n",
        "The x-axis represents the size of the training dataset.\n",
        "\n",
        "<h3>Shaded Areas:</h3>\n",
        "\n",
        "The shaded areas around the two lines indicate the variance (standard deviation) of the scores.\n",
        "For example, a wide shaded area indicates higher variance in scores, while a narrow shaded area indicates lower variance.\n",
        "\n",
        "<h3>Interpretation:</h3>\n",
        "\n",
        "- Overfitting: If the training score (blue line) is significantly higher than the cross-validation score (red line), it indicates overfitting. The model is fitting the training data too well but struggles to generalize to new, unseen data.\n",
        "\n",
        "- Underfitting: If both the training and cross-validation scores are low, it indicates underfitting. The model is not capturing the underlying patterns in the data.\n",
        "\n",
        "<h3>Ideal Scenario:</h3>\n",
        "\n",
        "The goal is to have both the training and cross-validation scores converge at a high value as the training dataset size increases. This indicates a model that is well-generalized and performs well on both training and unseen data."
      ],
      "metadata": {
        "id": "axKyfUKaIq5L"
      }
    },
    {
      "cell_type": "code",
      "source": [
        "\n",
        "train_sizes, train_scores, test_scores = learning_curve(LR, X_train, y_train, train_sizes=np.linspace(0.1, 1.0, 10), cv=5)\n",
        "\n",
        "# Calculate mean and standard deviation for training and test scores\n",
        "train_mean = np.mean(train_scores, axis=1)\n",
        "train_std = np.std(train_scores, axis=1)\n",
        "test_mean = np.mean(test_scores, axis=1)\n",
        "test_std = np.std(test_scores, axis=1)\n",
        "\n",
        "# Plot learning curves\n",
        "plt.figure(figsize=(10, 6))\n",
        "plt.plot(train_sizes, train_mean, label='Training score', color='blue')\n",
        "plt.plot(train_sizes, test_mean, label='Cross-validation score', color='red')\n",
        "\n",
        "# Fill the area between the lines for variance\n",
        "plt.fill_between(train_sizes, train_mean - train_std, train_mean + train_std, color='blue', alpha=0.1)\n",
        "plt.fill_between(train_sizes, test_mean - test_std, test_mean + test_std, color='red', alpha=0.1)\n",
        "\n",
        "# Add labels and title\n",
        "plt.xlabel('Training Size')\n",
        "plt.ylabel('Score')\n",
        "plt.title('Learning Curves')\n",
        "plt.legend(loc='best')\n",
        "plt.grid(True)\n",
        "\n",
        "plt.show()"
      ],
      "metadata": {
        "id": "buhLxQgUVPnB"
      },
      "execution_count": null,
      "outputs": []
    },
    {
      "cell_type": "code",
      "source": [
        "train_sizes, train_scores, test_scores = learning_curve(RG, X_train, y_train, train_sizes=np.linspace(0.1, 1.0, 10), cv=5)\n",
        "\n",
        "# Calculate mean and standard deviation for training and test scores\n",
        "train_mean = np.mean(train_scores, axis=1)\n",
        "train_std = np.std(train_scores, axis=1)\n",
        "test_mean = np.mean(test_scores, axis=1)\n",
        "test_std = np.std(test_scores, axis=1)\n",
        "\n",
        "# Plot learning curves\n",
        "plt.figure(figsize=(10, 6))\n",
        "plt.plot(train_sizes, train_mean, label='Training score', color='blue')\n",
        "plt.plot(train_sizes, test_mean, label='Cross-validation score', color='red')\n",
        "\n",
        "# Fill the area between the lines for variance\n",
        "plt.fill_between(train_sizes, train_mean - train_std, train_mean + train_std, color='blue', alpha=0.1)\n",
        "plt.fill_between(train_sizes, test_mean - test_std, test_mean + test_std, color='red', alpha=0.1)\n",
        "\n",
        "# Add labels and title\n",
        "plt.xlabel('Training Size')\n",
        "plt.ylabel('Score')\n",
        "plt.title('Learning Curves')\n",
        "plt.legend(loc='best')\n",
        "plt.grid(True)\n",
        "\n",
        "plt.show()"
      ],
      "metadata": {
        "id": "7SRMc5JmYEiR"
      },
      "execution_count": null,
      "outputs": []
    },
    {
      "cell_type": "code",
      "source": [
        "train_sizes, train_scores, test_scores = learning_curve(LS, X_train, y_train, train_sizes=np.linspace(0.1, 1.0, 10), cv=5)\n",
        "\n",
        "# Calculate mean and standard deviation for training and test scores\n",
        "train_mean = np.mean(train_scores, axis=1)\n",
        "train_std = np.std(train_scores, axis=1)\n",
        "test_mean = np.mean(test_scores, axis=1)\n",
        "test_std = np.std(test_scores, axis=1)\n",
        "\n",
        "# Plot learning curves\n",
        "plt.figure(figsize=(10, 6))\n",
        "plt.plot(train_sizes, train_mean, label='Training score', color='blue')\n",
        "plt.plot(train_sizes, test_mean, label='Cross-validation score', color='red')\n",
        "\n",
        "# Fill the area between the lines for variance\n",
        "plt.fill_between(train_sizes, train_mean - train_std, train_mean + train_std, color='blue', alpha=0.1)\n",
        "plt.fill_between(train_sizes, test_mean - test_std, test_mean + test_std, color='red', alpha=0.1)\n",
        "\n",
        "# Add labels and title\n",
        "plt.xlabel('Training Size')\n",
        "plt.ylabel('Score')\n",
        "plt.title('Learning Curves')\n",
        "plt.legend(loc='best')\n",
        "plt.grid(True)\n",
        "\n",
        "plt.show()"
      ],
      "metadata": {
        "id": "XYC-RIg4YQuO"
      },
      "execution_count": null,
      "outputs": []
    },
    {
      "cell_type": "code",
      "source": [
        "train_sizes, train_scores, test_scores = learning_curve(XGB, X_train, y_train, train_sizes=np.linspace(0.1, 1.0, 10), cv=5)\n",
        "\n",
        "# Calculate mean and standard deviation for training and test scores\n",
        "train_mean = np.mean(train_scores, axis=1)\n",
        "train_std = np.std(train_scores, axis=1)\n",
        "test_mean = np.mean(test_scores, axis=1)\n",
        "test_std = np.std(test_scores, axis=1)\n",
        "\n",
        "# Plot learning curves\n",
        "plt.figure(figsize=(10, 6))\n",
        "plt.plot(train_sizes, train_mean, label='Training score', color='blue')\n",
        "plt.plot(train_sizes, test_mean, label='Cross-validation score', color='red')\n",
        "\n",
        "# Fill the area between the lines for variance\n",
        "plt.fill_between(train_sizes, train_mean - train_std, train_mean + train_std, color='blue', alpha=0.1)\n",
        "plt.fill_between(train_sizes, test_mean - test_std, test_mean + test_std, color='red', alpha=0.1)\n",
        "\n",
        "# Add labels and title\n",
        "plt.xlabel('Training Size')\n",
        "plt.ylabel('Score')\n",
        "plt.title('Learning Curves')\n",
        "plt.legend(loc='best')\n",
        "plt.grid(True)\n",
        "\n",
        "plt.show()"
      ],
      "metadata": {
        "id": "D9dnkseuYZet"
      },
      "execution_count": null,
      "outputs": []
    },
    {
      "cell_type": "markdown",
      "source": [
        "**Observation:**\n",
        "\n",
        "The blue line (training score) being consistently above the red line (cross-validation score) suggests that your model is overfitting. It means that the model is fitting the training data very well but struggling to generalize to new, unseen data (which is represented by the cross-validation set).\n",
        "\n",
        "Both lines becoming almost straight after a certain point (around 700 training size) indicates that increasing the training dataset size beyond this point may not significantly improve the model's performance. This could be a sign of convergence where the model has captured most of the patterns in the data and adding more data doesn't lead to substantial improvements\n",
        "\n",
        "----\n",
        "Improving the performance of your XGBoost model further involves diving into advanced techniques and fine-tuning. Here are some strategies you can consider to push the performance of your XGBoost model to its maximum:\n",
        "\n",
        "\n",
        "1. **Feature Engineering:** Continue exploring and engineering features that might have a strong impact on the target variable. This could involve creating new variables based on domain knowledge, interaction terms, or transformations.\n",
        "\n",
        "2. **Advanced Hyperparameter Tuning:** You can explore more advanced techniques for hyperparameter tuning, such as using RandomizedSearchCV or GridSearchCV with a wider range of hyperparameter values. You could also consider using Bayesian Optimization or more specialized tools like Optuna to search for optimal hyperparameters.\n",
        "\n",
        "3. **Ensemble Methods:** Experiment with ensemble techniques like stacking or boosting multiple XGBoost models together to improve performance. This can help to reduce overfitting and increase predictive power.\n",
        "\n",
        "4. **Regularization:** XGBoost offers various forms of regularization, such as L1 and L2 regularization terms, which can help prevent overfitting. Experiment with different levels of regularization to find the right balance.\n",
        "\n",
        "5. **Handling Outliers:** Outliers can significantly affect the performance of machine learning models. Try different strategies to handle outliers in your data, such as capping/extending them or using robust scaler techniques.\n",
        "\n",
        "6. **Feature Selection:** Analyze the importance of features derived from the XGBoost model and consider removing less important features that might be adding noise.\n",
        "\n",
        "7. **Advanced Preprocessing:** Consider more advanced preprocessing techniques such as target encoding or interaction features between categorical variables.\n",
        "\n",
        "8. **Handling Imbalanced Data:** If your target variable is imbalanced, techniques like oversampling, undersampling, or using different sampling algorithms can help balance the class distribution.\n",
        "\n",
        "9. **Cross-Validation:** Utilize more advanced cross-validation techniques, such as TimeSeriesSplit or StratifiedKFold, to better evaluate the model's performance.\n",
        "\n",
        "10. Domain Knowledge: Continue to gather insights from domain experts, as they might suggest additional features or insights that could boost the model's performance."
      ],
      "metadata": {
        "id": "NtzqR3OkL3Z2"
      }
    },
    {
      "cell_type": "markdown",
      "source": [
        "<h1><b>NOTE</h1>\n",
        "\n",
        "> Standard Scaling and Robust Scaling are particularly useful when working with machine learning algorithms that are sensitive to the scale of input features. Here's when and why you might need these scaling techniques:\n",
        "\n",
        "**Standard Scaling (Z-score Normalization):**\n",
        "1. **Algorithms that rely on distances or gradients:** Algorithms like k-nearest neighbors, support vector machines (SVMs), and gradient-based optimization methods (e.g., gradient descent) perform better when features have similar scales. Standard scaling ensures that features are centered around zero and have a similar spread, which can improve the performance of these algorithms.\n",
        "\n",
        "2. **Principal Component Analysis (PCA):** PCA is a dimensionality reduction technique that aims to capture the maximum variance in the data. It works better when features are standardized to have zero mean and unit variance.\n",
        "\n",
        "3. **Linear regression and logistic regression:** These algorithms can benefit from standard scaling as it can speed up convergence during optimization and make the model coefficients more interpretable.\n",
        "\n",
        "**Robust Scaling:**\n",
        "1. **Presence of outliers:** If your dataset contains outliers, which are data points that significantly deviate from the rest of the data, standard scaling might be affected by these outliers and lead to poor results. In such cases, robust scaling can be a better choice because it uses the median and the interquartile range, which are less influenced by outliers.\n",
        "\n",
        "2. **Non-Gaussian distributions:** Standard scaling assumes that the data is normally distributed, but if your data has a skewed or non-Gaussian distribution, robust scaling can be more appropriate.\n",
        "\n",
        "In summary, you might need these scaling techniques when working with algorithms that are sensitive to feature scales, and you should choose between them based on the distribution of your data and the presence of outliers. It's a good practice to experiment with both scaling methods and assess their impact on your model's performance.\n",
        "\n"
      ],
      "metadata": {
        "id": "SsUaHvhLPNGB"
      }
    },
    {
      "cell_type": "markdown",
      "source": [
        "After performing Standard Scaling or Robust Scaling on your data, you can proceed with the following steps in your machine learning workflow:\n",
        "\n",
        "1. **Model Training:** Train your machine learning models using the scaled features. Use the same models you used before scaling, such as XGBoost, Random Forest, or other algorithms.\n",
        "\n",
        "2. **Hyperparameter Tuning:** If you were performing hyperparameter tuning before scaling, continue this step using the scaled data. Hyperparameter tuning helps you find the best set of hyperparameters for your models, which can further improve their performance.\n",
        "\n",
        "3. **Model Evaluation:** Evaluate the performance of your scaled models using appropriate evaluation metrics such as Mean Absolute Error (MAE), Mean Squared Error (MSE), R-squared (R^2), or others based on the problem you're solving.\n",
        "\n",
        "4. **Overfitting/Underfitting Analysis:** Analyze the potential presence of overfitting or underfitting by comparing the model performance on the training set and the validation/test set. If the model performs significantly better on the training set than the validation set, it might be overfitting. If the performance on both sets is low, it might be underfitting.\n",
        "\n",
        "5. **Validation Curves and Learning Curves:** Plot validation curves and learning curves to visualize how changes in hyperparameters or training data size affect the model's performance. This can help you identify optimal hyperparameters and assess if the model needs more training data.\n",
        "\n",
        "6. **Feature Importance Analysis:** If applicable, analyze the importance of individual features in your models using techniques like feature importance plots. Scaled features can provide a clearer picture of the importance of each feature.\n",
        "\n",
        "7. **Final Model Selection:** Select the best-performing model based on the evaluation metrics. This can be the model with the lowest MAE or MSE, the highest R^2, or a combination of factors based on your project's goals.\n",
        "\n",
        "8. **Predictions on New Data:** Once you have selected your final model, you can use it to make predictions on new, unseen data. Be sure to scale the new data using the same scaling parameters you used on the training data.\n"
      ],
      "metadata": {
        "id": "DsOyeh8jQk-T"
      }
    }
  ]
}